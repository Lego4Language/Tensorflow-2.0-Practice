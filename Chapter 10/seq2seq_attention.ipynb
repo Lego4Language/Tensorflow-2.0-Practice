{
 "cells": [
  {
   "cell_type": "markdown",
   "metadata": {},
   "source": [
    "**遗留问题：**<br>\n",
    "1. dataset.take()函数是抛出式的提取数据还是查询式提取数据？<br>\n",
    "2. 计算损失loss时的mask机制是什么，既然mask掉了一部分值，为什么在计算平均损失的时候仍然使用batch中的样本总数而不是总数减去mask掉的那些样本数？<br>\n",
    "3. 模型训练时不是像预测时那样用前一步的输出作为下一步的输入，而是在decoder端直接采用目标序列的相应词作为输入，这样的不同有什么影响吗？<br>\n",
    "4. 保存子类API实现的模型时tensorflow存在bug，model.save只能将模型保存为.h5py格式的文件"
   ]
  },
  {
   "cell_type": "code",
   "execution_count": 1,
   "metadata": {},
   "outputs": [
    {
     "name": "stdout",
     "output_type": "stream",
     "text": [
      "sys.version_info(major=3, minor=7, micro=4, releaselevel='final', serial=0)\n",
      "matplotlib 3.1.3\n",
      "numpy 1.18.1\n",
      "pandas 1.0.1\n",
      "sklearn 0.22.1\n",
      "tensorflow 2.0.0\n",
      "tensorflow_core.keras 2.2.4-tf\n"
     ]
    }
   ],
   "source": [
    "import matplotlib as mpl\n",
    "import matplotlib.pyplot as plt\n",
    "%matplotlib inline\n",
    "import numpy as np\n",
    "import sklearn\n",
    "import pandas as pd\n",
    "import os\n",
    "import sys\n",
    "import time\n",
    "import tensorflow as tf\n",
    "from tensorflow import keras\n",
    "\n",
    "print(sys.version_info)\n",
    "for module in mpl, np, pd, sklearn, tf, keras:\n",
    "    print(module.__name__, module.__version__)"
   ]
  },
  {
   "cell_type": "markdown",
   "metadata": {
    "toc-hr-collapsed": false
   },
   "source": [
    "## 1. 数据预处理"
   ]
  },
  {
   "cell_type": "markdown",
   "metadata": {},
   "source": [
    "### 1.1 加载文件，转换字符集编码"
   ]
  },
  {
   "cell_type": "markdown",
   "metadata": {},
   "source": [
    "之所以要讲unicode编码转换为ascii编码，是因为unicode的词表比较大，运算量相对较大"
   ]
  },
  {
   "cell_type": "code",
   "execution_count": 2,
   "metadata": {},
   "outputs": [
    {
     "name": "stdout",
     "output_type": "stream",
     "text": [
      "Who lost?\n",
      "¿Quien perdio?\n"
     ]
    }
   ],
   "source": [
    "en_spa_file_path = \"./data_spa_en/spa.txt\"\n",
    "\n",
    "import unicodedata\n",
    "def unicode_to_ascii(s):\n",
    "    return \"\".join(c for c in unicodedata.normalize(\"NFD\", s) # NFD是标准化的一种操作，将多个ascii码组成的unicode拆开\n",
    "                    if unicodedata.category(c) != \"Mn\") # Mn是重音格式\n",
    "\n",
    "en_sentence = \"Who lost?\"\n",
    "sp_sentence = \"¿Quién perdió?\"\n",
    "\n",
    "print(unicode_to_ascii(en_sentence))\n",
    "print(unicode_to_ascii(sp_sentence))"
   ]
  },
  {
   "cell_type": "markdown",
   "metadata": {},
   "source": [
    "### 1.2 对文本进行格式化处理"
   ]
  },
  {
   "cell_type": "code",
   "execution_count": 3,
   "metadata": {},
   "outputs": [
    {
     "name": "stdout",
     "output_type": "stream",
     "text": [
      "<start> who lost ? <end>\n",
      "<start> ¿ quien perdio ? <end>\n"
     ]
    }
   ],
   "source": [
    "import re\n",
    "def preprocess_sentence(s):\n",
    "    s = unicode_to_ascii(s.lower().strip())\n",
    "    \n",
    "    # 标点符号前后加空格\n",
    "    s = re.sub(r'([?.!,¿])', r\" \\1 \", s)\n",
    "    \n",
    "    # 除了标点符号和字母外都是空格\n",
    "    s = re.sub(r'[^a-zA-Z?.!,¿]', \" \", s)\n",
    "    \n",
    "    # 多余的空格变成一个空格\n",
    "    s = re.sub(r'[\" \"]+', \" \", s)\n",
    "    \n",
    "    # 去掉前后空格\n",
    "    s = s.rstrip().strip()\n",
    "    \n",
    "    s = '<start> ' + s + ' <end>'\n",
    "    return s\n",
    "\n",
    "print(preprocess_sentence(en_sentence))\n",
    "print(preprocess_sentence(sp_sentence))"
   ]
  },
  {
   "cell_type": "code",
   "execution_count": 4,
   "metadata": {},
   "outputs": [
    {
     "name": "stdout",
     "output_type": "stream",
     "text": [
      "<start> it may be impossible to get a completely error free corpus due to the nature of this kind of collaborative effort . however , if we encourage members to contribute sentences in their own languages rather than experiment in languages they are learning , we might be able to minimize errors . <end>\n",
      "<start> puede que sea imposible obtener un corpus completamente libre de errores debido a la naturaleza de este tipo de esfuerzo de colaboracion . sin embargo , si animamos a los miembros a contribuir frases en sus propios idiomas en lugar de experimentar con los idiomas que estan aprendiendo , podriamos ser capaces de minimizar los errores . <end>\n"
     ]
    }
   ],
   "source": [
    "def parse_data(filename):\n",
    "    lines = open(filename, encoding=\"utf-8\").read().strip().split(\"\\n\")\n",
    "    sentence_pairs = [line.split(\"\\t\") for line in lines]\n",
    "    preprocessed_sentence_pairs = [\n",
    "        (preprocess_sentence(en), preprocess_sentence(sp)) for en, sp in sentence_pairs\n",
    "    ]\n",
    "    return zip(*preprocessed_sentence_pairs)\n",
    "\n",
    "en_dataset, sp_dataset = parse_data(en_spa_file_path)\n",
    "print(en_dataset[-1])\n",
    "print(sp_dataset[-1])"
   ]
  },
  {
   "cell_type": "markdown",
   "metadata": {},
   "source": [
    "### 1.3 把文本序列转换为数字数列（索引）"
   ]
  },
  {
   "cell_type": "code",
   "execution_count": 5,
   "metadata": {},
   "outputs": [
    {
     "name": "stdout",
     "output_type": "stream",
     "text": [
      "9402\n",
      "4833\n",
      "16 11\n"
     ]
    }
   ],
   "source": [
    "def tokenizer(lang):\n",
    "    lang_tokenizer = keras.preprocessing.text.Tokenizer(\n",
    "        num_words=None, \n",
    "        filters=\"\", \n",
    "        split=\" \")\n",
    "    lang_tokenizer.fit_on_texts(lang)\n",
    "    tensor = lang_tokenizer.texts_to_sequences(lang)\n",
    "    tensor = keras.preprocessing.sequence.pad_sequences(tensor, \n",
    "                                                        padding=\"post\") # 在后面添0用作填充\n",
    "    return tensor, lang_tokenizer\n",
    "\n",
    "input_tensor, input_tokenizer = tokenizer(sp_dataset[0:30000])\n",
    "output_tensor, output_tokenizer = tokenizer(en_dataset[0:30000])\n",
    "print(len(input_tokenizer.index_word))\n",
    "print(len(output_tokenizer.index_word))\n",
    "\n",
    "def max_length(tensor):\n",
    "    return max(len(t) for t in tensor)\n",
    "\n",
    "max_length_input = max_length(input_tensor)\n",
    "max_length_output = max_length(output_tensor)\n",
    "print(max_length_input, max_length_output)"
   ]
  },
  {
   "cell_type": "markdown",
   "metadata": {},
   "source": [
    "### 1.4 切分数据集"
   ]
  },
  {
   "cell_type": "code",
   "execution_count": 6,
   "metadata": {},
   "outputs": [
    {
     "data": {
      "text/plain": [
       "(24000, 6000, 24000, 6000)"
      ]
     },
     "execution_count": 6,
     "metadata": {},
     "output_type": "execute_result"
    }
   ],
   "source": [
    "from sklearn.model_selection import train_test_split\n",
    "input_train, input_eval, output_train, output_eval = train_test_split(\n",
    "    input_tensor, \n",
    "    output_tensor, \n",
    "    test_size=0.2)\n",
    "\n",
    "len(input_train), len(input_eval), len(output_train), len(output_eval)"
   ]
  },
  {
   "cell_type": "code",
   "execution_count": 7,
   "metadata": {},
   "outputs": [
    {
     "name": "stdout",
     "output_type": "stream",
     "text": [
      "1 ---> <start>\n",
      "65 ---> he\n",
      "252 ---> perdido\n",
      "19 ---> mi\n",
      "249 ---> llave\n",
      "3 ---> .\n",
      "2 ---> <end>\n",
      "\n",
      "1 ---> <start>\n",
      "4 ---> i\n",
      "106 ---> lost\n",
      "21 ---> my\n",
      "310 ---> key\n",
      "3 ---> .\n",
      "2 ---> <end>\n"
     ]
    }
   ],
   "source": [
    "# 验证转换是否正确\n",
    "def convert(example, tokenizer):\n",
    "    for t in example:\n",
    "        if t != 0:\n",
    "            print(\"%d ---> %s\" %(t, tokenizer.index_word[t]))\n",
    "            \n",
    "convert(input_train[0], input_tokenizer)\n",
    "print()\n",
    "convert(output_train[0], output_tokenizer)"
   ]
  },
  {
   "cell_type": "markdown",
   "metadata": {},
   "source": [
    "### 1.5 生成dataset数据集"
   ]
  },
  {
   "cell_type": "code",
   "execution_count": 8,
   "metadata": {},
   "outputs": [],
   "source": [
    "batch_size = 64\n",
    "epochs = 20\n",
    "steps_per_epoch = len(input_tensor) // batch_size"
   ]
  },
  {
   "cell_type": "code",
   "execution_count": 9,
   "metadata": {},
   "outputs": [],
   "source": [
    "def make_dataset(input_tensor, \n",
    "                 output_tensor,\n",
    "                 batch_size, \n",
    "                 epochs, \n",
    "                 shuffle):\n",
    "    dataset = tf.data.Dataset.from_tensor_slices(\n",
    "        (input_tensor, output_tensor))\n",
    "    if shuffle:\n",
    "        dataset = dataset.shuffle(30000)\n",
    "    dataset = dataset.repeat(epochs).batch(\n",
    "        batch_size, \n",
    "        drop_remainder=True) # 当最后一部分数据不足batch_size时舍弃\n",
    "    return dataset\n",
    "\n",
    "train_dataset = make_dataset(\n",
    "    input_train, output_train, batch_size, epochs, True)\n",
    "\n",
    "eval_dataset = make_dataset(\n",
    "    input_eval, output_eval, batch_size, 1, False)"
   ]
  },
  {
   "cell_type": "code",
   "execution_count": 10,
   "metadata": {},
   "outputs": [
    {
     "name": "stdout",
     "output_type": "stream",
     "text": [
      "(64, 16)\n",
      "(64, 11)\n",
      "tf.Tensor(\n",
      "[[   1    5  506 ...    0    0    0]\n",
      " [   1    5   46 ...    0    0    0]\n",
      " [   1   33   97 ...    0    0    0]\n",
      " ...\n",
      " [   1   42 8722 ...    0    0    0]\n",
      " [   1   59    8 ...    0    0    0]\n",
      " [   1    5  676 ...    0    0    0]], shape=(64, 16), dtype=int32)\n",
      "tf.Tensor(\n",
      "[[   1   22    5   29  363 2726    6    2    0    0    0]\n",
      " [   1   51   40   13 1263   33    6    2    0    0    0]\n",
      " [   1   28  250  534    3    2    0    0    0    0    0]\n",
      " [   1   61   75   63   21  239    3    2    0    0    0]\n",
      " [   1    4   23   12 1036   20    3    2    0    0    0]\n",
      " [   1    7 3806   46    3    2    0    0    0    0    0]\n",
      " [   1   13  560    8   42    3    2    0    0    0    0]\n",
      " [   1    7 1373    5    3    2    0    0    0    0    0]\n",
      " [   1    4   23  290    3    2    0    0    0    0    0]\n",
      " [   1  286   20  194    3    2    0    0    0    0    0]\n",
      " [   1   20    8 2092    3    2    0    0    0    0    0]\n",
      " [   1    9  853  250 3717    3    2    0    0    0    0]\n",
      " [   1   13 4203   57  367    3    2    0    0    0    0]\n",
      " [   1   28  204   43    3    2    0    0    0    0    0]\n",
      " [   1   19  100   12   95    3    2    0    0    0    0]\n",
      " [   1   13  488    8  403    3    2    0    0    0    0]\n",
      " [   1    4   16 2417   21  704    3    2    0    0    0]\n",
      " [   1    4   27   12   45   15  124    3    2    0    0]\n",
      " [   1  180   23   87   18    3    2    0    0    0    0]\n",
      " [   1    4  173   48    3    2    0    0    0    0    0]\n",
      " [   1    5   43   56    4  305    3    2    0    0    0]\n",
      " [   1  752  103 1120    3    2    0    0    0    0    0]\n",
      " [   1   25    5   10  311    6    2    0    0    0    0]\n",
      " [   1    4   16  160   39    3    2    0    0    0    0]\n",
      " [   1   14 1439   65 1243    3    2    0    0    0    0]\n",
      " [   1    4   27   12   64    5    3    2    0    0    0]\n",
      " [   1   20   94   12  596    3    2    0    0    0    0]\n",
      " [   1   31 1288   80   47    3    2    0    0    0    0]\n",
      " [   1  486  212    9    3    2    0    0    0    0    0]\n",
      " [   1   51   22   17   22   19    6    2    0    0    0]\n",
      " [   1   41 2465    3    2    0    0    0    0    0    0]\n",
      " [   1   27   12   93   48   37    2    0    0    0    0]\n",
      " [   1    4  118   99   10   83    3    2    0    0    0]\n",
      " [   1    7  200   46   90    3    2    0    0    0    0]\n",
      " [   1    7    8  102  344    3    2    0    0    0    0]\n",
      " [   1    5   43    4   73    5   37    2    0    0    0]\n",
      " [   1    5   25 2123    3    2    0    0    0    0    0]\n",
      " [   1   21  328  127 2178    3    2    0    0    0    0]\n",
      " [   1   56 1526    6    2    0    0    0    0    0    0]\n",
      " [   1  756   30  350   37    2    0    0    0    0    0]\n",
      " [   1  125   18 3493    3    2    0    0    0    0    0]\n",
      " [   1    4   97    7  120    3    2    0    0    0    0]\n",
      " [   1    7  200 3808    3    2    0    0    0    0    0]\n",
      " [   1    9   11   10 1033   63   98    3    2    0    0]\n",
      " [   1   61   18  140  644    3    2    0    0    0    0]\n",
      " [   1   87 1723    3    2    0    0    0    0    0    0]\n",
      " [   1   17   24   36   13 1441    3    2    0    0    0]\n",
      " [   1   13  203  911  394    3    2    0    0    0    0]\n",
      " [   1   51  167   40    5  158    6    2    0    0    0]\n",
      " [   1    8   20   30   83    6    2    0    0    0    0]\n",
      " [   1    5   23   33    3    2    0    0    0    0    0]\n",
      " [   1   17   24   36  154   54    3    2    0    0    0]\n",
      " [   1 1216 3297    3    2    0    0    0    0    0    0]\n",
      " [   1   79   25    5  458    6    2    0    0    0    0]\n",
      " [   1    7   11   36   60    3    2    0    0    0    0]\n",
      " [   1    7    8  963    3    2    0    0    0    0    0]\n",
      " [   1    4   29  157   36  913    3    2    0    0    0]\n",
      " [   1    4   27   12  271    9   37    2    0    0    0]\n",
      " [   1    4   69 2104  361    3    2    0    0    0    0]\n",
      " [   1    4   23   12  597  150    3    2    0    0    0]\n",
      " [   1    7    8  102  368    3    2    0    0    0    0]\n",
      " [   1   28   24   13  794  571    3    2    0    0    0]\n",
      " [   1   28   27   12   74    3    2    0    0    0    0]\n",
      " [   1   40    5   64   10  311    6    2    0    0    0]], shape=(64, 11), dtype=int32)\n"
     ]
    }
   ],
   "source": [
    "for x, y in train_dataset.take(1):\n",
    "    print(x.shape)\n",
    "    print(y.shape)\n",
    "    print(x)\n",
    "    print(y)"
   ]
  },
  {
   "cell_type": "markdown",
   "metadata": {},
   "source": [
    "## 2. Encoder Part"
   ]
  },
  {
   "cell_type": "code",
   "execution_count": 11,
   "metadata": {},
   "outputs": [],
   "source": [
    "embedding_units = 256  # 词向量维度（定义两种语言维度相同）\n",
    "units = 1024    # 隐藏层单元数（定义encoder和decoder端隐藏节点数相同）\n",
    "input_vocab_size = len(input_tokenizer.word_index) + 1   # 因为有一个用于表示pad的数字0\n",
    "output_vocab_size = len(output_tokenizer.word_index) + 1"
   ]
  },
  {
   "cell_type": "code",
   "execution_count": 12,
   "metadata": {},
   "outputs": [
    {
     "name": "stdout",
     "output_type": "stream",
     "text": [
      "sample_output.shape:  (64, 16, 1024)\n",
      "sample_hidden.shape:  (64, 1024)\n"
     ]
    }
   ],
   "source": [
    "class Encoder(keras.Model):\n",
    "    def __init__(self, vocab_size, embedding_units, encoding_units,\n",
    "                 batch_size):\n",
    "        super(Encoder, self).__init__()\n",
    "        self.batch_size = batch_size\n",
    "        self.encoding_units = encoding_units\n",
    "        self.embedding = keras.layers.Embedding(vocab_size, \n",
    "                                                embedding_units)\n",
    "        self.gru = keras.layers.GRU(self.encoding_units,\n",
    "                                    return_sequences=True,\n",
    "                                    return_state= True,\n",
    "                                    recurrent_initializer=\"glorot_uniform\")\n",
    "        \n",
    "    def call(self, x, hidden):\n",
    "        x = self.embedding(x)\n",
    "        output, state = self.gru(x, initial_state=hidden)\n",
    "        return output, state\n",
    "    \n",
    "    def initialize_hidden_state(self):\n",
    "        return tf.zeros((self.batch_size, self.encoding_units))\n",
    "    \n",
    "encoder = Encoder(input_vocab_size, embedding_units,\n",
    "                  units, batch_size)\n",
    "sample_hidden = encoder.initialize_hidden_state()\n",
    "sample_output, sample_hidden = encoder(x, sample_hidden)\n",
    "\n",
    "print(\"sample_output.shape: \", sample_output.shape)\n",
    "print(\"sample_hidden.shape: \", sample_hidden.shape)"
   ]
  },
  {
   "cell_type": "markdown",
   "metadata": {},
   "source": [
    "## 3. Attention Part"
   ]
  },
  {
   "cell_type": "code",
   "execution_count": 13,
   "metadata": {},
   "outputs": [
    {
     "name": "stdout",
     "output_type": "stream",
     "text": [
      "attention_results.shape (64, 1024)\n",
      "attention_weights.shape (64, 16, 1)\n"
     ]
    }
   ],
   "source": [
    "class BahdanauAttention(keras.Model):\n",
    "    def __init__(self, units):\n",
    "        super(BahdanauAttention, self).__init__()\n",
    "        self.W1 = keras.layers.Dense(units)\n",
    "        self.W2 = keras.layers.Dense(units)\n",
    "        self.V = keras.layers.Dense(1)\n",
    "        \n",
    "    def call(self, decoder_hidden, encoder_outputs):\n",
    "        # decoder_hidden.shape: (batch_size, units)\n",
    "        # encoder_outputs.shape: (batch_size, length, units)\n",
    "        decoder_hidden_with_time_axis = tf.expand_dims(decoder_hidden, 1)\n",
    "\n",
    "        # before V: (batch_size, length, units)\n",
    "        # after V: (batch_size, length, 1)\n",
    "        score = self.V(\n",
    "            tf.nn.tanh(\n",
    "                self.W1(encoder_outputs) + self.W2(decoder_hidden_with_time_axis)))\n",
    "\n",
    "        #shape: (batch_size, length, 1)\n",
    "        attention_weights = tf.nn.softmax(score, axis=1)\n",
    "\n",
    "        #context_vector.shape : (batch_size, length, units)\n",
    "        context_vector = attention_weights * encoder_outputs\n",
    "\n",
    "        #context_viector.shape: (batch_size, units)\n",
    "        context_vector = tf.reduce_sum(context_vector, axis=1)\n",
    "\n",
    "        return context_vector, attention_weights\n",
    "    \n",
    "attention_model = BahdanauAttention(units=10)\n",
    "attention_results, attention_weights = attention_model(\n",
    "    sample_hidden, sample_output)\n",
    "\n",
    "print(\"attention_results.shape\", attention_results.shape)\n",
    "print(\"attention_weights.shape\", attention_weights.shape)"
   ]
  },
  {
   "cell_type": "markdown",
   "metadata": {},
   "source": [
    "## 4. Decoder Part"
   ]
  },
  {
   "cell_type": "code",
   "execution_count": 14,
   "metadata": {},
   "outputs": [
    {
     "name": "stdout",
     "output_type": "stream",
     "text": [
      "decoder_output.shape:  (64, 4834)\n",
      "decoder_hidden.shape:  (64, 1024)\n",
      "decoder_attention_weights.shape:  (64, 16, 1)\n"
     ]
    }
   ],
   "source": [
    "class Decoder(keras.Model):\n",
    "    def __init__(self, vocab_size, embedding_units,\n",
    "                 decoding_units, batch_size):\n",
    "        super(Decoder, self).__init__()\n",
    "        self.batch_size = batch_size\n",
    "        self.decoding_units = decoding_units\n",
    "        self.embedding = keras.layers.Embedding(\n",
    "            vocab_size, embedding_units)\n",
    "        self.gru = keras.layers.GRU(self.decoding_units,\n",
    "                                    return_sequences=True,\n",
    "                                    return_state=True,\n",
    "                                    recurrent_initializer=\"glorot_uniform\")\n",
    "        self.fc = keras.layers.Dense(vocab_size)\n",
    "        self.attention = BahdanauAttention(self.decoding_units)\n",
    "        \n",
    "    def call(self, x, hidden, encoding_outputs):\n",
    "        # context_vector.shape: (batch_size, units)\n",
    "        context_vector, attention_weights = self.attention(\n",
    "            hidden, encoding_outputs)\n",
    "        \n",
    "        # before embedding: x.shape: (batch_size, 1)\n",
    "        # after embedding: x.shape: (batch_size, 1, embeding_units)\n",
    "        x = self.embedding(x)\n",
    "        \n",
    "        combined_x = tf.concat(\n",
    "            [tf.expand_dims(context_vector, 1), x], axis=-1)\n",
    "        \n",
    "        # output.shape: [batch_size, 1, decoding_units]\n",
    "        # state.shape: [batch_size, decoding_units]\n",
    "        output, state = self.gru(combined_x)\n",
    "        \n",
    "        # output.shape: [batch_size, decoding_units]\n",
    "        output = tf.reshape(output, (-1, output.shape[2]))\n",
    "        \n",
    "        # output.shape: [batch_size, vocab_size]\n",
    "        output = self.fc(output)\n",
    "        \n",
    "        return output, state, attention_weights\n",
    "    \n",
    "decoder = Decoder(output_vocab_size, embedding_units, units, batch_size)\n",
    "\n",
    "outputs = decoder(tf.random.uniform((batch_size, 1)),\n",
    "                  sample_hidden,\n",
    "                  sample_output)\n",
    "decoder_output, decoder_hidden, decoder_aw = outputs\n",
    "\n",
    "print(\"decoder_output.shape: \", decoder_output.shape)\n",
    "print(\"decoder_hidden.shape: \", decoder_hidden.shape)\n",
    "print(\"decoder_attention_weights.shape: \", decoder_aw.shape)"
   ]
  },
  {
   "cell_type": "code",
   "execution_count": 15,
   "metadata": {},
   "outputs": [],
   "source": [
    "optimizer = keras.optimizers.Adam()\n",
    "\n",
    "loss_object = keras.losses.SparseCategoricalCrossentropy(\n",
    "    from_logits=True,\n",
    "    reduction=\"none\")      # 先不进行汇总计算\n",
    "\n",
    "def loss_function(real, pred):\n",
    "    mask = tf.math.logical_not(tf.math.equal(real, 0))\n",
    "    loss_ = loss_object(real, pred)\n",
    "    \n",
    "    mask = tf.cast(mask, dtype=loss_.dtype)\n",
    "    loss_ *= mask\n",
    "    return tf.reduce_mean(loss_)"
   ]
  },
  {
   "cell_type": "markdown",
   "metadata": {},
   "source": [
    "## 5. 定义损失函数和优化器"
   ]
  },
  {
   "cell_type": "code",
   "execution_count": 16,
   "metadata": {},
   "outputs": [],
   "source": [
    "@tf.function\n",
    "def train_step(inp, targ, encoding_hidden):\n",
    "    loss = 0\n",
    "    with tf.GradientTape() as tape:\n",
    "        encoding_outputs, encoding_hidden = encoder(\n",
    "            inp, encoding_hidden)\n",
    "        \n",
    "        decoding_hidden = encoding_hidden\n",
    "        \n",
    "        # eg: <start> I am here <end>\n",
    "        # 1. <start> -> I\n",
    "        # 2. I -> am\n",
    "        # 3. am -> here\n",
    "        # 4. here -> <end>\n",
    "        for t in range(0, targ.shape[1]-1):\n",
    "            decoding_input = tf.expand_dims(targ[:, t], 1)\n",
    "            \n",
    "            predictions, decoding_hidden, attention_weight = decoder(\n",
    "                decoding_input, decoding_hidden, encoding_outputs)\n",
    "            loss += loss_function(targ[:, t+1], predictions)\n",
    "            \n",
    "    batch_loss = loss / int(targ.shape[0])  # 有些被mask掉了，平均数为何不是除以非零的数量和而是总的数量??????????????????????????\n",
    "    variables = encoder.trainable_variables + decoder.trainable_variables\n",
    "    gradient = tape.gradient(loss, variables)\n",
    "    optimizer.apply_gradients(zip(gradient, variables))\n",
    "    return batch_loss"
   ]
  },
  {
   "cell_type": "markdown",
   "metadata": {},
   "source": [
    "## 6. 训练模型"
   ]
  },
  {
   "cell_type": "code",
   "execution_count": 17,
   "metadata": {},
   "outputs": [
    {
     "name": "stdin",
     "output_type": "stream",
     "text": [
      "Is this a trianing model ? (yes or no)--->  no\n"
     ]
    }
   ],
   "source": [
    "train_model = input(\"Is this a trianing model ? (yes or no)---> \")\n",
    "if train_model == \"yes\":\n",
    "    for epoch in range(1, epochs+1):\n",
    "        start = time.time()\n",
    "\n",
    "        encoding_hidden = encoder.initialize_hidden_state()\n",
    "        total_loss = 0\n",
    "\n",
    "        for (batch, (inp, targ)) in enumerate(\n",
    "            train_dataset.take(steps_per_epoch), 1):\n",
    "            batch_loss = train_step(inp, targ, encoding_hidden)\n",
    "            total_loss += batch_loss\n",
    "\n",
    "            if batch % 100 == 0:\n",
    "                print(\"Epoch {} Batch {} Loss {:.4f}\".format(\n",
    "                    epoch, batch, batch_loss.numpy()))\n",
    "\n",
    "        print(\"Epoch {} Loss {:.4f}\".format(epoch,\n",
    "                                            total_loss / steps_per_epoch))\n",
    "        print(\"Time take for 1 epoch {} sec\\n\".format(time.time() - start))"
   ]
  },
  {
   "cell_type": "markdown",
   "metadata": {},
   "source": [
    "## 7. 预测及结果检验"
   ]
  },
  {
   "cell_type": "code",
   "execution_count": 18,
   "metadata": {},
   "outputs": [],
   "source": [
    "def evaluate(input_sentence):\n",
    "    attention_matrix = np.zeros((max_length_output, max_length_input))\n",
    "    input_sentence = preprocess_sentence(input_sentence)\n",
    "    \n",
    "    inputs = [input_tokenizer.word_index[token] for token in input_sentence.split(\" \")]\n",
    "    inputs = keras.preprocessing.sequence.pad_sequences(\n",
    "    [inputs],\n",
    "    maxlen=max_length_input,\n",
    "    padding=\"post\")\n",
    "    inputs = tf.convert_to_tensor(inputs)\n",
    "    \n",
    "    results = \"\"\n",
    "#     encoding_hidden = encoder.initialize_hidden_state()\n",
    "    encoding_hidden = tf.zeros((1, units))\n",
    "    \n",
    "    encoding_outputs, encoding_hidden = encoder(inputs, encoding_hidden)\n",
    "    decoding_hidden = encoding_hidden\n",
    "    \n",
    "    # eg: <start> -> A\n",
    "    # A -> B -> C -> D\n",
    "    \n",
    "    # decoding_input.shape: (1, 1)\n",
    "    decoding_input = tf.expand_dims(\n",
    "        [output_tokenizer.word_index[\"<start>\"]], 0)\n",
    "    for t in range(max_length_output):\n",
    "        predictions, decoding_hidden, attention_weights = decoder(\n",
    "            decoding_input, decoding_hidden, encoding_outputs)\n",
    "        \n",
    "        # attention_weights.shape: (batch_size, input_length, 1) (1, 16, 1)\n",
    "        attention_weights = tf.reshape(attention_weights, (-1,))\n",
    "        attention_matrix[t] = attention_weights.numpy()\n",
    "        \n",
    "        # predictions.shape: (batch_size, vocab_size) (1, 4834)\n",
    "        predicted_id = tf.argmax(predictions[0]).numpy()\n",
    "        \n",
    "        results += output_tokenizer.index_word[predicted_id] + \" \"\n",
    "        if output_tokenizer.index_word[predicted_id] == \"<end>\":\n",
    "            return results, input_sentence, attention_matrix\n",
    "        \n",
    "        decoding_input = tf.expand_dims([predicted_id], 0)\n",
    "    return results, input_sentence, attention_matrix\n",
    "\n",
    "def plot_attention(attention_matrix, input_sentence, predicted_sentence):\n",
    "    fig = plt.figure(figsize=(10, 10))\n",
    "    ax = fig.add_subplot(1, 1, 1)\n",
    "    ax.matshow(attention_matrix, cmap=\"viridis\")\n",
    "    \n",
    "    font_dict = {\"fontsize\": 14}\n",
    "    \n",
    "    ax.set_xticklabels([\"\"] + input_sentence, \n",
    "                       fontdict=font_dict, \n",
    "                       rotation=90)\n",
    "    ax.set_yticklabels([\"\"] + predicted_sentence,\n",
    "                       fontdict=font_dict)\n",
    "    plt.show()\n",
    "    \n",
    "def translate(input_sentence):\n",
    "    results, input_sentence, attention_matrix = evaluate(input_sentence)\n",
    "    print(\"Input: %s\" %(input_sentence))\n",
    "    print(\"Predicted translate: %s\" %(results))\n",
    "    \n",
    "    attention_matrix = attention_matrix[:len(results.split(\" \")),\n",
    "                                        :len(input_sentence.split(\" \"))]\n",
    "    plot_attention(attention_matrix, \n",
    "                   input_sentence.split(\" \"),\n",
    "                   results.split(\" \"))"
   ]
  },
  {
   "cell_type": "code",
   "execution_count": 19,
   "metadata": {},
   "outputs": [
    {
     "name": "stdout",
     "output_type": "stream",
     "text": [
      "Input: <start> tom es mi nombre , tengo anos . <end>\n",
      "Predicted translate: raised occupied get confirm list computer eventually popular gander computer eventually \n"
     ]
    },
    {
     "data": {
      "image/png": "[encoded data removed]",
      "text/plain": [
       "<Figure size 720x720 with 1 Axes>"
      ]
     },
     "metadata": {
      "needs_background": "light"
     },
     "output_type": "display_data"
    }
   ],
   "source": [
    "translate(u\"Tom es mi nombre, tengo 29 años.\")"
   ]
  },
  {
   "cell_type": "markdown",
   "metadata": {},
   "source": [
    "## 8.保存和提取模型参数"
   ]
  },
  {
   "cell_type": "code",
   "execution_count": 20,
   "metadata": {},
   "outputs": [],
   "source": [
    "if train_model == \"yes\":\n",
    "    encoder_path = \"./seq2seq_attention_save_encoder/\"\n",
    "    decoder_path = \"./seq2seq_attention_save_decoder/\"\n",
    "\n",
    "    def create_dir(path):\n",
    "        if not os.path.exists(path):\n",
    "            os.mkdir(path)\n",
    "\n",
    "    create_dir(encoder_path)\n",
    "    create_dir(decoder_path)\n",
    "\n",
    "    # 查看参数\n",
    "    def print_param_info(coder):\n",
    "        for matrix in coder.weights:\n",
    "            print(matrix.name, matrix.shape)\n",
    "    print_param_info(encoder)\n",
    "    print(\"-------------\")\n",
    "    print_param_info(decoder)\n",
    "\n",
    "    # 保存参数\n",
    "    encoder.save_weights(encoder_path)\n",
    "    decoder.save_weights(decoder_path)"
   ]
  },
  {
   "cell_type": "code",
   "execution_count": 35,
   "metadata": {},
   "outputs": [
    {
     "name": "stdout",
     "output_type": "stream",
     "text": [
      "Input: <start> esta es mi familia <end>\n",
      "Predicted translate: this is my family . <end> \n"
     ]
    },
    {
     "data": {
      "image/png": "[encoded data removed]",
      "text/plain": [
       "<Figure size 720x720 with 1 Axes>"
      ]
     },
     "metadata": {
      "needs_background": "light"
     },
     "output_type": "display_data"
    }
   ],
   "source": [
    "# 加载参数\n",
    "encoder_path = \"./seq2seq_attention_save_encoder/\"\n",
    "decoder_path = \"./seq2seq_attention_save_decoder/\"\n",
    "encoder.load_weights(encoder_path)\n",
    "decoder.load_weights(decoder_path)\n",
    "translate(u\"esta es mi familia\")"
   ]
  }
 ],
 "metadata": {
  "kernelspec": {
   "display_name": "Python 3",
   "language": "python",
   "name": "python3"
  },
  "language_info": {
   "codemirror_mode": {
    "name": "ipython",
    "version": 3
   },
   "file_extension": ".py",
   "mimetype": "text/x-python",
   "name": "python",
   "nbconvert_exporter": "python",
   "pygments_lexer": "ipython3",
   "version": "3.7.4"
  }
 },
 "nbformat": 4,
 "nbformat_minor": 4
}
