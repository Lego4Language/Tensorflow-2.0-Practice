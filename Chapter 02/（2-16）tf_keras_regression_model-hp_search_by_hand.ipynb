{
 "cells": [
  {
   "cell_type": "code",
   "execution_count": 1,
   "metadata": {},
   "outputs": [
    {
     "name": "stdout",
     "output_type": "stream",
     "text": [
      "sys.version_info(major=3, minor=7, micro=5, releaselevel='final', serial=0)\n",
      "matplotlib 3.1.2\n",
      "numpy 1.17.4\n",
      "pandas 0.25.3\n",
      "sklearn 0.22\n",
      "tensorflow 2.0.0\n",
      "tensorflow_core.keras 2.2.4-tf\n"
     ]
    }
   ],
   "source": [
    "import matplotlib as mpl\n",
    "import matplotlib.pyplot as plt\n",
    "%matplotlib inline\n",
    "import numpy as np\n",
    "import sklearn\n",
    "import pandas as pd\n",
    "import os\n",
    "import sys\n",
    "import time\n",
    "import tensorflow as tf\n",
    "\n",
    "from tensorflow import keras\n",
    "print(sys.version_info)\n",
    "for module in mpl, np, pd, sklearn, tf, keras:\n",
    "    print(module.__name__, module.__version__)"
   ]
  },
  {
   "cell_type": "markdown",
   "metadata": {},
   "source": [
    "## 1. 准备并处理数据"
   ]
  },
  {
   "cell_type": "markdown",
   "metadata": {},
   "source": [
    "### 1.1 准备数据"
   ]
  },
  {
   "cell_type": "code",
   "execution_count": 2,
   "metadata": {
    "scrolled": true
   },
   "outputs": [
    {
     "name": "stdout",
     "output_type": "stream",
     "text": [
      "(20640, 8)\n",
      "(20640,)\n"
     ]
    }
   ],
   "source": [
    "from sklearn.datasets import fetch_california_housing\n",
    "housing = fetch_california_housing()\n",
    "print(housing.data.shape)\n",
    "print(housing.target.shape)"
   ]
  },
  {
   "cell_type": "code",
   "execution_count": 3,
   "metadata": {},
   "outputs": [
    {
     "name": "stdout",
     "output_type": "stream",
     "text": [
      "array([[ 8.32520000e+00,  4.10000000e+01,  6.98412698e+00,\n",
      "         1.02380952e+00,  3.22000000e+02,  2.55555556e+00,\n",
      "         3.78800000e+01, -1.22230000e+02],\n",
      "       [ 8.30140000e+00,  2.10000000e+01,  6.23813708e+00,\n",
      "         9.71880492e-01,  2.40100000e+03,  2.10984183e+00,\n",
      "         3.78600000e+01, -1.22220000e+02],\n",
      "       [ 7.25740000e+00,  5.20000000e+01,  8.28813559e+00,\n",
      "         1.07344633e+00,  4.96000000e+02,  2.80225989e+00,\n",
      "         3.78500000e+01, -1.22240000e+02]])\n",
      "array([4.526, 3.585, 3.521])\n"
     ]
    }
   ],
   "source": [
    "import pprint\n",
    "\n",
    "pprint.pprint(housing.data[0:3])\n",
    "pprint.pprint(housing.target[0:3])"
   ]
  },
  {
   "cell_type": "code",
   "execution_count": 4,
   "metadata": {},
   "outputs": [
    {
     "name": "stdout",
     "output_type": "stream",
     "text": [
      "(11610, 8) (11610,)\n",
      "(3870, 8) (3870,)\n",
      "(5160, 8) (5160,)\n"
     ]
    }
   ],
   "source": [
    "from sklearn.model_selection import train_test_split\n",
    "\n",
    "x_train_all, x_test, y_train_all, y_test = train_test_split(housing.data, housing.target,)\n",
    "#                                                             random_state= 7)\n",
    "x_train, x_valid, y_train, y_valid = train_test_split(x_train_all, y_train_all, )\n",
    "#                                                       random_state = 11)\n",
    "print(x_train.shape, y_train.shape)\n",
    "print(x_valid.shape, y_valid.shape)\n",
    "print(x_test.shape, y_test.shape)"
   ]
  },
  {
   "cell_type": "markdown",
   "metadata": {},
   "source": [
    "### 1.2 数据归一化"
   ]
  },
  {
   "cell_type": "code",
   "execution_count": 5,
   "metadata": {},
   "outputs": [],
   "source": [
    "from sklearn.preprocessing import StandardScaler\n",
    "\n",
    "scaler = StandardScaler()\n",
    "x_train_scaled = scaler.fit_transform(x_train)\n",
    "x_valid_scaled = scaler.transform(x_valid)\n",
    "x_test_scaled = scaler.transform(x_test)"
   ]
  },
  {
   "cell_type": "markdown",
   "metadata": {},
   "source": [
    "## 2.【重点】 建立模型及训练（手动搜索超参数）"
   ]
  },
  {
   "cell_type": "markdown",
   "metadata": {},
   "source": [
    "手动搜索超参数缺点：超参数太多，循环太多，顺序执行，不能并行化；"
   ]
  },
  {
   "cell_type": "code",
   "execution_count": 6,
   "metadata": {
    "scrolled": true
   },
   "outputs": [
    {
     "name": "stdout",
     "output_type": "stream",
     "text": [
      "Train on 11610 samples, validate on 3870 samples\n",
      "Epoch 1/100\n",
      "11610/11610 [==============================] - 1s 78us/sample - loss: 4.6328 - val_loss: 4.0131\n",
      "Epoch 2/100\n",
      "11610/11610 [==============================] - 0s 34us/sample - loss: 3.4647 - val_loss: 3.0528\n",
      "Epoch 3/100\n",
      "11610/11610 [==============================] - 0s 33us/sample - loss: 2.6965 - val_loss: 2.4098\n",
      "Epoch 4/100\n",
      "11610/11610 [==============================] - 0s 34us/sample - loss: 2.1784 - val_loss: 1.9734\n",
      "Epoch 5/100\n",
      "11610/11610 [==============================] - 0s 36us/sample - loss: 1.8196 - val_loss: 1.6700\n",
      "Epoch 6/100\n",
      "11610/11610 [==============================] - 0s 37us/sample - loss: 1.5640 - val_loss: 1.4540\n",
      "Epoch 7/100\n",
      "11610/11610 [==============================] - 0s 37us/sample - loss: 1.3770 - val_loss: 1.2973\n",
      "Epoch 8/100\n",
      "11610/11610 [==============================] - 0s 39us/sample - loss: 1.2365 - val_loss: 1.1793\n",
      "Epoch 9/100\n",
      "11610/11610 [==============================] - 0s 32us/sample - loss: 1.1282 - val_loss: 1.0890\n",
      "Epoch 10/100\n",
      "11610/11610 [==============================] - 0s 35us/sample - loss: 1.0433 - val_loss: 1.0186\n",
      "Epoch 11/100\n",
      "11610/11610 [==============================] - 0s 33us/sample - loss: 0.9754 - val_loss: 0.9622\n",
      "Epoch 12/100\n",
      "11610/11610 [==============================] - 0s 34us/sample - loss: 0.9204 - val_loss: 0.9159\n",
      "Epoch 13/100\n",
      "11610/11610 [==============================] - 0s 32us/sample - loss: 0.8752 - val_loss: 0.8776\n",
      "Epoch 14/100\n",
      "11610/11610 [==============================] - 0s 34us/sample - loss: 0.8379 - val_loss: 0.8458\n",
      "Epoch 15/100\n",
      "11610/11610 [==============================] - 0s 34us/sample - loss: 0.8070 - val_loss: 0.8191\n",
      "Epoch 16/100\n",
      "11610/11610 [==============================] - 0s 33us/sample - loss: 0.7811 - val_loss: 0.7963\n",
      "Epoch 17/100\n",
      "11610/11610 [==============================] - 0s 32us/sample - loss: 0.7594 - val_loss: 0.7769\n",
      "Epoch 18/100\n",
      "11610/11610 [==============================] - 0s 36us/sample - loss: 0.7410 - val_loss: 0.7602\n",
      "Epoch 19/100\n",
      "11610/11610 [==============================] - 0s 33us/sample - loss: 0.7253 - val_loss: 0.7458\n",
      "Epoch 20/100\n",
      "11610/11610 [==============================] - 0s 36us/sample - loss: 0.7119 - val_loss: 0.7332\n",
      "Epoch 21/100\n",
      "11610/11610 [==============================] - 0s 38us/sample - loss: 0.7002 - val_loss: 0.7222\n",
      "Epoch 22/100\n",
      "11610/11610 [==============================] - 0s 36us/sample - loss: 0.6901 - val_loss: 0.7125\n",
      "Epoch 23/100\n",
      "11610/11610 [==============================] - 0s 35us/sample - loss: 0.6813 - val_loss: 0.7039\n",
      "Epoch 24/100\n",
      "11610/11610 [==============================] - 0s 34us/sample - loss: 0.6734 - val_loss: 0.6961\n",
      "Epoch 25/100\n",
      "11610/11610 [==============================] - 0s 33us/sample - loss: 0.6664 - val_loss: 0.6891\n",
      "Epoch 26/100\n",
      "11610/11610 [==============================] - 0s 33us/sample - loss: 0.6601 - val_loss: 0.6828\n",
      "Epoch 27/100\n",
      "11610/11610 [==============================] - 0s 34us/sample - loss: 0.6543 - val_loss: 0.6769\n",
      "Epoch 28/100\n",
      "11610/11610 [==============================] - 0s 35us/sample - loss: 0.6490 - val_loss: 0.6715\n",
      "Epoch 29/100\n",
      "11610/11610 [==============================] - 0s 35us/sample - loss: 0.6441 - val_loss: 0.6665\n",
      "Epoch 30/100\n",
      "11610/11610 [==============================] - 0s 32us/sample - loss: 0.6396 - val_loss: 0.6618\n",
      "Epoch 31/100\n",
      "11610/11610 [==============================] - 0s 35us/sample - loss: 0.6353 - val_loss: 0.6575\n",
      "Epoch 32/100\n",
      "11610/11610 [==============================] - 0s 33us/sample - loss: 0.6313 - val_loss: 0.6534\n",
      "Epoch 33/100\n",
      "11610/11610 [==============================] - 0s 35us/sample - loss: 0.6275 - val_loss: 0.6494\n",
      "Epoch 34/100\n",
      "11610/11610 [==============================] - 0s 33us/sample - loss: 0.6239 - val_loss: 0.6457\n",
      "Epoch 35/100\n",
      "11610/11610 [==============================] - 0s 33us/sample - loss: 0.6204 - val_loss: 0.6423\n",
      "Epoch 36/100\n",
      "11610/11610 [==============================] - 0s 33us/sample - loss: 0.6172 - val_loss: 0.6389\n",
      "Epoch 37/100\n",
      "11610/11610 [==============================] - 0s 36us/sample - loss: 0.6140 - val_loss: 0.6357\n",
      "Epoch 38/100\n",
      "11610/11610 [==============================] - 0s 36us/sample - loss: 0.6110 - val_loss: 0.6327\n",
      "Epoch 39/100\n",
      "11610/11610 [==============================] - 0s 34us/sample - loss: 0.6081 - val_loss: 0.6297\n",
      "Epoch 40/100\n",
      "11610/11610 [==============================] - 1s 51us/sample - loss: 0.6054 - val_loss: 0.6269\n",
      "Epoch 41/100\n",
      "11610/11610 [==============================] - 0s 33us/sample - loss: 0.6027 - val_loss: 0.6242\n",
      "Epoch 42/100\n",
      "11610/11610 [==============================] - 0s 34us/sample - loss: 0.6001 - val_loss: 0.6215\n",
      "Epoch 43/100\n",
      "11610/11610 [==============================] - 0s 33us/sample - loss: 0.5975 - val_loss: 0.6190\n",
      "Epoch 44/100\n",
      "11610/11610 [==============================] - 0s 33us/sample - loss: 0.5951 - val_loss: 0.6165\n",
      "Epoch 45/100\n",
      "11610/11610 [==============================] - 0s 36us/sample - loss: 0.5927 - val_loss: 0.6141\n",
      "Epoch 46/100\n",
      "11610/11610 [==============================] - 0s 33us/sample - loss: 0.5904 - val_loss: 0.6119\n",
      "Epoch 47/100\n",
      "11610/11610 [==============================] - 0s 34us/sample - loss: 0.5882 - val_loss: 0.6096\n",
      "Epoch 48/100\n",
      "11610/11610 [==============================] - 0s 33us/sample - loss: 0.5860 - val_loss: 0.6074\n",
      "Epoch 49/100\n",
      "11610/11610 [==============================] - 0s 37us/sample - loss: 0.5839 - val_loss: 0.6053\n",
      "Epoch 50/100\n",
      "11610/11610 [==============================] - 0s 34us/sample - loss: 0.5818 - val_loss: 0.6033\n",
      "Epoch 51/100\n",
      "11610/11610 [==============================] - 0s 32us/sample - loss: 0.5798 - val_loss: 0.6013\n",
      "Epoch 52/100\n",
      "11610/11610 [==============================] - 0s 35us/sample - loss: 0.5779 - val_loss: 0.5994\n",
      "Epoch 53/100\n",
      "11610/11610 [==============================] - 0s 33us/sample - loss: 0.5760 - val_loss: 0.5975\n",
      "Train on 11610 samples, validate on 3870 samples\n",
      "Epoch 1/100\n",
      "11610/11610 [==============================] - 1s 52us/sample - loss: 3.4539 - val_loss: 2.1043\n",
      "Epoch 2/100\n",
      "11610/11610 [==============================] - 0s 33us/sample - loss: 1.5331 - val_loss: 1.1820\n",
      "Epoch 3/100\n",
      "11610/11610 [==============================] - 0s 35us/sample - loss: 1.0102 - val_loss: 0.9095\n",
      "Epoch 4/100\n",
      "11610/11610 [==============================] - 0s 33us/sample - loss: 0.8398 - val_loss: 0.8159\n",
      "Epoch 5/100\n",
      "11610/11610 [==============================] - 0s 33us/sample - loss: 0.7754 - val_loss: 0.7751\n",
      "Epoch 6/100\n",
      "11610/11610 [==============================] - 0s 34us/sample - loss: 0.7448 - val_loss: 0.7518\n",
      "Epoch 7/100\n",
      "11610/11610 [==============================] - 0s 33us/sample - loss: 0.7256 - val_loss: 0.7354\n",
      "Epoch 8/100\n",
      "11610/11610 [==============================] - 0s 34us/sample - loss: 0.7111 - val_loss: 0.7224\n",
      "Epoch 9/100\n",
      "11610/11610 [==============================] - 0s 36us/sample - loss: 0.6990 - val_loss: 0.7111\n",
      "Epoch 10/100\n",
      "11610/11610 [==============================] - 0s 33us/sample - loss: 0.6882 - val_loss: 0.7006\n",
      "Epoch 11/100\n",
      "11610/11610 [==============================] - 0s 33us/sample - loss: 0.6784 - val_loss: 0.6910\n",
      "Epoch 12/100\n",
      "11610/11610 [==============================] - 0s 33us/sample - loss: 0.6692 - val_loss: 0.6826\n",
      "Epoch 13/100\n",
      "11610/11610 [==============================] - 0s 33us/sample - loss: 0.6605 - val_loss: 0.6748\n",
      "Epoch 14/100\n",
      "11610/11610 [==============================] - 0s 33us/sample - loss: 0.6524 - val_loss: 0.6669\n",
      "Epoch 15/100\n",
      "11610/11610 [==============================] - 0s 33us/sample - loss: 0.6446 - val_loss: 0.6594\n",
      "Epoch 16/100\n",
      "11610/11610 [==============================] - 0s 34us/sample - loss: 0.6372 - val_loss: 0.6522\n",
      "Epoch 17/100\n",
      "11610/11610 [==============================] - 0s 34us/sample - loss: 0.6302 - val_loss: 0.6457\n",
      "Epoch 18/100\n",
      "11610/11610 [==============================] - 1s 47us/sample - loss: 0.6234 - val_loss: 0.6395\n",
      "Epoch 19/100\n",
      "11610/11610 [==============================] - 0s 36us/sample - loss: 0.6170 - val_loss: 0.6336\n",
      "Epoch 20/100\n",
      "11610/11610 [==============================] - 0s 33us/sample - loss: 0.6109 - val_loss: 0.6277\n",
      "Epoch 21/100\n",
      "11610/11610 [==============================] - 0s 33us/sample - loss: 0.6050 - val_loss: 0.6224\n",
      "Epoch 22/100\n",
      "11610/11610 [==============================] - 0s 33us/sample - loss: 0.5994 - val_loss: 0.6167\n",
      "Epoch 23/100\n",
      "11610/11610 [==============================] - 0s 33us/sample - loss: 0.5940 - val_loss: 0.6114\n",
      "Epoch 24/100\n",
      "11610/11610 [==============================] - 0s 33us/sample - loss: 0.5889 - val_loss: 0.6069\n",
      "Epoch 25/100\n",
      "11610/11610 [==============================] - 0s 33us/sample - loss: 0.5839 - val_loss: 0.6022\n",
      "Epoch 26/100\n",
      "11610/11610 [==============================] - 0s 33us/sample - loss: 0.5791 - val_loss: 0.5974\n",
      "Epoch 27/100\n",
      "11610/11610 [==============================] - 0s 38us/sample - loss: 0.5744 - val_loss: 0.5929\n",
      "Epoch 28/100\n",
      "11610/11610 [==============================] - 0s 37us/sample - loss: 0.5699 - val_loss: 0.5885\n",
      "Epoch 29/100\n",
      "11610/11610 [==============================] - 0s 36us/sample - loss: 0.5657 - val_loss: 0.5846\n",
      "Epoch 30/100\n",
      "11610/11610 [==============================] - 0s 32us/sample - loss: 0.5615 - val_loss: 0.5805\n",
      "Epoch 31/100\n",
      "11610/11610 [==============================] - 0s 32us/sample - loss: 0.5575 - val_loss: 0.5766\n",
      "Epoch 32/100\n",
      "11610/11610 [==============================] - 0s 35us/sample - loss: 0.5537 - val_loss: 0.5729\n",
      "Epoch 33/100\n",
      "11610/11610 [==============================] - 0s 32us/sample - loss: 0.5500 - val_loss: 0.5696\n",
      "Epoch 34/100\n",
      "11610/11610 [==============================] - 0s 35us/sample - loss: 0.5465 - val_loss: 0.5663\n",
      "Epoch 35/100\n",
      "11610/11610 [==============================] - 0s 32us/sample - loss: 0.5430 - val_loss: 0.5625\n",
      "Epoch 36/100\n",
      "11610/11610 [==============================] - 0s 35us/sample - loss: 0.5398 - val_loss: 0.5600\n",
      "Epoch 37/100\n",
      "11610/11610 [==============================] - 0s 34us/sample - loss: 0.5366 - val_loss: 0.5566\n",
      "Epoch 38/100\n",
      "11610/11610 [==============================] - 0s 33us/sample - loss: 0.5336 - val_loss: 0.5535\n",
      "Epoch 39/100\n",
      "11610/11610 [==============================] - 0s 32us/sample - loss: 0.5307 - val_loss: 0.5512\n",
      "Epoch 40/100\n",
      "11610/11610 [==============================] - 0s 34us/sample - loss: 0.5279 - val_loss: 0.5482\n",
      "Epoch 41/100\n",
      "11610/11610 [==============================] - 0s 33us/sample - loss: 0.5252 - val_loss: 0.5456\n",
      "Epoch 42/100\n",
      "11610/11610 [==============================] - 0s 34us/sample - loss: 0.5226 - val_loss: 0.5433\n",
      "Epoch 43/100\n",
      "11610/11610 [==============================] - 0s 33us/sample - loss: 0.5200 - val_loss: 0.5406\n",
      "Epoch 44/100\n",
      "11610/11610 [==============================] - 0s 35us/sample - loss: 0.5176 - val_loss: 0.5379\n",
      "Epoch 45/100\n",
      "11610/11610 [==============================] - 0s 39us/sample - loss: 0.5153 - val_loss: 0.5363\n",
      "Epoch 46/100\n",
      "11610/11610 [==============================] - 0s 35us/sample - loss: 0.5130 - val_loss: 0.5340\n",
      "Epoch 47/100\n",
      "11610/11610 [==============================] - 0s 37us/sample - loss: 0.5108 - val_loss: 0.5321\n",
      "Epoch 48/100\n",
      "11610/11610 [==============================] - 0s 37us/sample - loss: 0.5088 - val_loss: 0.5300\n",
      "Epoch 49/100\n",
      "11610/11610 [==============================] - 0s 35us/sample - loss: 0.5066 - val_loss: 0.5277\n",
      "Epoch 50/100\n",
      "11610/11610 [==============================] - 0s 33us/sample - loss: 0.5047 - val_loss: 0.5265\n",
      "Epoch 51/100\n",
      "11610/11610 [==============================] - 0s 33us/sample - loss: 0.5028 - val_loss: 0.5246\n",
      "Epoch 52/100\n",
      "11610/11610 [==============================] - 0s 32us/sample - loss: 0.5010 - val_loss: 0.5225\n",
      "Train on 11610 samples, validate on 3870 samples\n",
      "Epoch 1/100\n",
      "11610/11610 [==============================] - 1s 56us/sample - loss: 2.3381 - val_loss: 1.0405\n",
      "Epoch 2/100\n",
      "11610/11610 [==============================] - 0s 34us/sample - loss: 0.8510 - val_loss: 0.7850\n",
      "Epoch 3/100\n",
      "11610/11610 [==============================] - 0s 34us/sample - loss: 0.7299 - val_loss: 0.7209\n",
      "Epoch 4/100\n",
      "11610/11610 [==============================] - 0s 34us/sample - loss: 0.6796 - val_loss: 0.6784\n",
      "Epoch 5/100\n",
      "11610/11610 [==============================] - 0s 33us/sample - loss: 0.6428 - val_loss: 0.6464\n",
      "Epoch 6/100\n",
      "11610/11610 [==============================] - 0s 33us/sample - loss: 0.6136 - val_loss: 0.6213\n",
      "Epoch 7/100\n",
      "11610/11610 [==============================] - 0s 34us/sample - loss: 0.5905 - val_loss: 0.6028\n",
      "Epoch 8/100\n",
      "11610/11610 [==============================] - 0s 33us/sample - loss: 0.5707 - val_loss: 0.5839\n",
      "Epoch 9/100\n",
      "11610/11610 [==============================] - 0s 33us/sample - loss: 0.5552 - val_loss: 0.5701\n",
      "Epoch 10/100\n",
      "11610/11610 [==============================] - 0s 35us/sample - loss: 0.5417 - val_loss: 0.5575\n",
      "Epoch 11/100\n",
      "11610/11610 [==============================] - 0s 33us/sample - loss: 0.5297 - val_loss: 0.5483\n",
      "Epoch 12/100\n",
      "11610/11610 [==============================] - 0s 33us/sample - loss: 0.5201 - val_loss: 0.5375\n",
      "Epoch 13/100\n",
      "11610/11610 [==============================] - 0s 33us/sample - loss: 0.5113 - val_loss: 0.5292\n",
      "Epoch 14/100\n",
      "11610/11610 [==============================] - 0s 35us/sample - loss: 0.5034 - val_loss: 0.5229\n",
      "Epoch 15/100\n",
      "11610/11610 [==============================] - 0s 32us/sample - loss: 0.4969 - val_loss: 0.5191\n",
      "Epoch 16/100\n",
      "11610/11610 [==============================] - 0s 34us/sample - loss: 0.4914 - val_loss: 0.5114\n",
      "Epoch 17/100\n",
      "11610/11610 [==============================] - 0s 33us/sample - loss: 0.4866 - val_loss: 0.5077\n",
      "Epoch 18/100\n",
      "11610/11610 [==============================] - 0s 33us/sample - loss: 0.4815 - val_loss: 0.5035\n",
      "Epoch 19/100\n",
      "11610/11610 [==============================] - 0s 34us/sample - loss: 0.4770 - val_loss: 0.5009\n",
      "Epoch 20/100\n",
      "11610/11610 [==============================] - 0s 33us/sample - loss: 0.4738 - val_loss: 0.4987\n",
      "Epoch 21/100\n",
      "11610/11610 [==============================] - 0s 33us/sample - loss: 0.4711 - val_loss: 0.4937\n",
      "Epoch 22/100\n",
      "11610/11610 [==============================] - 0s 34us/sample - loss: 0.4678 - val_loss: 0.4900\n",
      "Epoch 23/100\n",
      "11610/11610 [==============================] - 0s 36us/sample - loss: 0.4647 - val_loss: 0.4880\n",
      "Epoch 24/100\n",
      "11610/11610 [==============================] - 0s 35us/sample - loss: 0.4627 - val_loss: 0.4859\n",
      "Epoch 25/100\n",
      "11610/11610 [==============================] - 0s 32us/sample - loss: 0.4600 - val_loss: 0.4861\n",
      "Epoch 26/100\n",
      "11610/11610 [==============================] - 0s 33us/sample - loss: 0.4568 - val_loss: 0.4816\n",
      "Epoch 27/100\n",
      "11610/11610 [==============================] - 0s 33us/sample - loss: 0.4560 - val_loss: 0.4790\n",
      "Epoch 28/100\n",
      "11610/11610 [==============================] - 0s 34us/sample - loss: 0.4532 - val_loss: 0.4807\n",
      "Epoch 29/100\n",
      "11610/11610 [==============================] - 0s 33us/sample - loss: 0.4521 - val_loss: 0.4760\n",
      "Epoch 30/100\n",
      "11610/11610 [==============================] - 0s 36us/sample - loss: 0.4499 - val_loss: 0.4752\n",
      "Epoch 31/100\n",
      "11610/11610 [==============================] - 0s 38us/sample - loss: 0.4486 - val_loss: 0.4735\n",
      "Epoch 32/100\n",
      "11610/11610 [==============================] - 0s 35us/sample - loss: 0.4465 - val_loss: 0.4722\n",
      "Train on 11610 samples, validate on 3870 samples\n",
      "Epoch 1/100\n",
      "11610/11610 [==============================] - 1s 50us/sample - loss: 1.0364 - val_loss: 0.5760\n",
      "Epoch 2/100\n",
      "11610/11610 [==============================] - 0s 33us/sample - loss: 0.5252 - val_loss: 0.5217\n",
      "Epoch 3/100\n",
      "11610/11610 [==============================] - 0s 33us/sample - loss: 0.4846 - val_loss: 0.4970\n",
      "Epoch 4/100\n",
      "11610/11610 [==============================] - 0s 34us/sample - loss: 0.4646 - val_loss: 0.4921\n",
      "Epoch 5/100\n",
      "11610/11610 [==============================] - 0s 41us/sample - loss: 0.4527 - val_loss: 0.4741\n",
      "Epoch 6/100\n",
      "11610/11610 [==============================] - 0s 35us/sample - loss: 0.4395 - val_loss: 0.4644\n",
      "Epoch 7/100\n",
      "11610/11610 [==============================] - 0s 36us/sample - loss: 0.4336 - val_loss: 0.4601\n",
      "Epoch 8/100\n",
      "11610/11610 [==============================] - 0s 33us/sample - loss: 0.4271 - val_loss: 0.4638\n",
      "Epoch 9/100\n",
      "11610/11610 [==============================] - 0s 33us/sample - loss: 0.4220 - val_loss: 0.4479\n",
      "Epoch 10/100\n",
      "11610/11610 [==============================] - 0s 33us/sample - loss: 0.4223 - val_loss: 0.4480\n",
      "Epoch 11/100\n",
      "11610/11610 [==============================] - 0s 33us/sample - loss: 0.4142 - val_loss: 0.4457\n",
      "Epoch 12/100\n",
      "11610/11610 [==============================] - 0s 34us/sample - loss: 0.4094 - val_loss: 0.4369\n",
      "Epoch 13/100\n",
      "11610/11610 [==============================] - 0s 33us/sample - loss: 0.4094 - val_loss: 0.4348\n",
      "Epoch 14/100\n",
      "11610/11610 [==============================] - 0s 33us/sample - loss: 0.4038 - val_loss: 0.4284\n",
      "Epoch 15/100\n",
      "11610/11610 [==============================] - 0s 33us/sample - loss: 0.4052 - val_loss: 0.4213\n",
      "Epoch 16/100\n",
      "11610/11610 [==============================] - 0s 36us/sample - loss: 0.3984 - val_loss: 0.4225\n",
      "Epoch 17/100\n",
      "11610/11610 [==============================] - 0s 35us/sample - loss: 0.4253 - val_loss: 0.4177\n",
      "Epoch 18/100\n",
      "11610/11610 [==============================] - 0s 38us/sample - loss: 0.4062 - val_loss: 0.4204\n",
      "Epoch 19/100\n",
      "11610/11610 [==============================] - 0s 32us/sample - loss: 0.3924 - val_loss: 0.4125\n",
      "Epoch 20/100\n",
      "11610/11610 [==============================] - 0s 35us/sample - loss: 0.3892 - val_loss: 0.4180\n",
      "Train on 11610 samples, validate on 3870 samples\n",
      "Epoch 1/100\n",
      "11610/11610 [==============================] - 1s 51us/sample - loss: 1.1262 - val_loss: 0.5383\n",
      "Epoch 2/100\n",
      "11610/11610 [==============================] - 0s 33us/sample - loss: 0.5010 - val_loss: 0.4509\n",
      "Epoch 3/100\n",
      "11610/11610 [==============================] - 0s 36us/sample - loss: 0.4197 - val_loss: 0.4228\n",
      "Epoch 4/100\n",
      "11610/11610 [==============================] - 0s 35us/sample - loss: 0.3972 - val_loss: 0.3918\n",
      "Epoch 5/100\n",
      "11610/11610 [==============================] - 0s 35us/sample - loss: 0.5227 - val_loss: 0.4083\n",
      "Epoch 6/100\n",
      "11610/11610 [==============================] - 0s 32us/sample - loss: 0.3899 - val_loss: 0.4064\n",
      "Epoch 7/100\n",
      "11610/11610 [==============================] - 0s 36us/sample - loss: 0.3816 - val_loss: 0.3949\n",
      "Epoch 8/100\n",
      "11610/11610 [==============================] - 0s 36us/sample - loss: 0.3847 - val_loss: 0.4103\n",
      "Epoch 9/100\n",
      "11610/11610 [==============================] - 0s 34us/sample - loss: 0.3811 - val_loss: 0.3867\n"
     ]
    }
   ],
   "source": [
    "learning_rates = [1e-4, 3e-4, 1e-3, 1e-2, 3e-2]   # 超参数（学习率）列表\n",
    "histories = []\n",
    "for lr in learning_rates:\n",
    "    model = keras.models.Sequential([\n",
    "        keras.layers.Dense(30, activation=\"relu\", input_shape=x_train.shape[1:]),\n",
    "        keras.layers.Dense(1)\n",
    "    ])\n",
    "    optimizer = keras.optimizers.SGD(lr)\n",
    "    model.compile(loss=\"mean_squared_error\", optimizer=optimizer)\n",
    "    callbacks = [keras.callbacks.EarlyStopping(patience=5, min_delta=1e-2)]\n",
    "    history = model.fit(x_train_scaled, y_train, \n",
    "                       validation_data = (x_valid_scaled, y_valid),\n",
    "                       epochs = 100,\n",
    "                       callbacks = callbacks)\n",
    "    histories.append(history)"
   ]
  },
  {
   "cell_type": "markdown",
   "metadata": {},
   "source": [
    "## 3. 训练模型"
   ]
  },
  {
   "cell_type": "code",
   "execution_count": 7,
   "metadata": {},
   "outputs": [
    {
     "name": "stdout",
     "output_type": "stream",
     "text": [
      "Learning rate is :  0.0001\n"
     ]
    },
    {
     "data": {
      "image/png": "[encoded data removed]",
      "text/plain": [
       "<Figure size 576x360 with 1 Axes>"
      ]
     },
     "metadata": {
      "needs_background": "light"
     },
     "output_type": "display_data"
    },
    {
     "name": "stdout",
     "output_type": "stream",
     "text": [
      "Learning rate is :  0.0003\n"
     ]
    },
    {
     "data": {
      "image/png": "[encoded data removed]",
      "text/plain": [
       "<Figure size 576x360 with 1 Axes>"
      ]
     },
     "metadata": {
      "needs_background": "light"
     },
     "output_type": "display_data"
    },
    {
     "name": "stdout",
     "output_type": "stream",
     "text": [
      "Learning rate is :  0.001\n"
     ]
    },
    {
     "data": {
      "image/png": "[encoded data removed]",
      "text/plain": [
       "<Figure size 576x360 with 1 Axes>"
      ]
     },
     "metadata": {
      "needs_background": "light"
     },
     "output_type": "display_data"
    },
    {
     "name": "stdout",
     "output_type": "stream",
     "text": [
      "Learning rate is :  0.01\n"
     ]
    },
    {
     "data": {
      "image/png": "[encoded data removed]",
      "text/plain": [
       "<Figure size 576x360 with 1 Axes>"
      ]
     },
     "metadata": {
      "needs_background": "light"
     },
     "output_type": "display_data"
    },
    {
     "name": "stdout",
     "output_type": "stream",
     "text": [
      "Learning rate is :  0.03\n"
     ]
    },
    {
     "data": {
      "image/png": "[encoded data removed]",
      "text/plain": [
       "<Figure size 576x360 with 1 Axes>"
      ]
     },
     "metadata": {
      "needs_background": "light"
     },
     "output_type": "display_data"
    }
   ],
   "source": [
    "def plot_learning_curves(history):\n",
    "    pd.DataFrame(history.history).plot(figsize=(8, 5))\n",
    "    plt.grid(True)\n",
    "#     plt.gca().set_ylim(0, 1)\n",
    "    plt.show()\n",
    "for lr, history in zip(learning_rates, histories):\n",
    "    print(\"Learning rate is : \", lr)\n",
    "    plot_learning_curves(history)"
   ]
  }
 ],
 "metadata": {
  "kernelspec": {
   "display_name": "Python 3",
   "language": "python",
   "name": "python3"
  },
  "language_info": {
   "codemirror_mode": {
    "name": "ipython",
    "version": 3
   },
   "file_extension": ".py",
   "mimetype": "text/x-python",
   "name": "python",
   "nbconvert_exporter": "python",
   "pygments_lexer": "ipython3",
   "version": "3.7.5"
  },
  "toc": {
   "base_numbering": 1,
   "nav_menu": {},
   "number_sections": false,
   "sideBar": true,
   "skip_h1_title": false,
   "title_cell": "Table of Contents",
   "title_sidebar": "Contents",
   "toc_cell": false,
   "toc_position": {
    "height": "calc(100% - 180px)",
    "left": "10px",
    "top": "150px",
    "width": "172.391px"
   },
   "toc_section_display": true,
   "toc_window_display": true
  }
 },
 "nbformat": 4,
 "nbformat_minor": 4
}
