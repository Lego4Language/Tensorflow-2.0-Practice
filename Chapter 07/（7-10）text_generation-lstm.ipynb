{
 "cells": [
  {
   "cell_type": "code",
   "execution_count": 1,
   "metadata": {},
   "outputs": [
    {
     "name": "stdout",
     "output_type": "stream",
     "text": [
      "numpy 1.17.4\n",
      "pandas 0.25.3\n",
      "sklearn 0.22\n",
      "matplotlib 3.1.2\n",
      "tensorflow 2.0.0\n",
      "tensorflow_core.keras 2.2.4-tf\n",
      "sys.version_info(major=3, minor=7, micro=5, releaselevel='final', serial=0)\n"
     ]
    }
   ],
   "source": [
    "import os\n",
    "import sys\n",
    "import time\n",
    "import numpy as np\n",
    "import pandas as pd\n",
    "import sklearn\n",
    "import tensorflow as tf\n",
    "from tensorflow import keras\n",
    "from pprint import pprint\n",
    "import matplotlib as mpl\n",
    "import matplotlib.pyplot as plt\n",
    "%matplotlib inline\n",
    "\n",
    "\n",
    "for module in np, pd, sklearn, mpl, tf, keras:\n",
    "    print(module.__name__, module.__version__)\n",
    "print(sys.version_info)"
   ]
  },
  {
   "cell_type": "markdown",
   "metadata": {
    "toc-hr-collapsed": false
   },
   "source": [
    "## 1.获取并处理数据"
   ]
  },
  {
   "cell_type": "markdown",
   "metadata": {},
   "source": [
    "### 1.1 读取数据"
   ]
  },
  {
   "cell_type": "code",
   "execution_count": 2,
   "metadata": {},
   "outputs": [
    {
     "name": "stdout",
     "output_type": "stream",
     "text": [
      "1115394\n",
      "('First Citizen:\\n'\n",
      " 'Before we proceed any further, hear me speak.\\n'\n",
      " '\\n'\n",
      " 'All:\\n'\n",
      " 'Speak, speak.\\n'\n",
      " '\\n'\n",
      " 'First Citizen:\\n'\n",
      " 'You')\n"
     ]
    }
   ],
   "source": [
    "input_filepath = \"./shakespeare.txt\"\n",
    "\n",
    "with open(input_filepath, \"r\") as f:\n",
    "    text = f.read()\n",
    "\n",
    "print(len(text))\n",
    "pprint(text[:100])"
   ]
  },
  {
   "cell_type": "markdown",
   "metadata": {},
   "source": [
    "### 1.2 生成词表"
   ]
  },
  {
   "cell_type": "code",
   "execution_count": 3,
   "metadata": {},
   "outputs": [
    {
     "name": "stdout",
     "output_type": "stream",
     "text": [
      "['\\n', ' ', '!', '$', '&', \"'\", ',', '-', '.', '3', ':', ';', '?', 'A', 'B', 'C', 'D', 'E', 'F', 'G', 'H', 'I', 'J', 'K', 'L', 'M', 'N', 'O', 'P', 'Q', 'R', 'S', 'T', 'U', 'V', 'W', 'X', 'Y', 'Z', 'a', 'b', 'c', 'd', 'e', 'f', 'g', 'h', 'i', 'j', 'k', 'l', 'm', 'n', 'o', 'p', 'q', 'r', 's', 't', 'u', 'v', 'w', 'x', 'y', 'z'] 65\n"
     ]
    }
   ],
   "source": [
    "vocab =sorted(set(text))  # 给字符排序\n",
    "print(vocab, len(vocab))"
   ]
  },
  {
   "cell_type": "markdown",
   "metadata": {},
   "source": [
    "### 1.3 构造词表映射"
   ]
  },
  {
   "cell_type": "code",
   "execution_count": 4,
   "metadata": {},
   "outputs": [
    {
     "name": "stdout",
     "output_type": "stream",
     "text": [
      "{'\\n': 0, ' ': 1, '!': 2, '$': 3, '&': 4, \"'\": 5, ',': 6, '-': 7, '.': 8, '3': 9, ':': 10, ';': 11, '?': 12, 'A': 13, 'B': 14, 'C': 15, 'D': 16, 'E': 17, 'F': 18, 'G': 19, 'H': 20, 'I': 21, 'J': 22, 'K': 23, 'L': 24, 'M': 25, 'N': 26, 'O': 27, 'P': 28, 'Q': 29, 'R': 30, 'S': 31, 'T': 32, 'U': 33, 'V': 34, 'W': 35, 'X': 36, 'Y': 37, 'Z': 38, 'a': 39, 'b': 40, 'c': 41, 'd': 42, 'e': 43, 'f': 44, 'g': 45, 'h': 46, 'i': 47, 'j': 48, 'k': 49, 'l': 50, 'm': 51, 'n': 52, 'o': 53, 'p': 54, 'q': 55, 'r': 56, 's': 57, 't': 58, 'u': 59, 'v': 60, 'w': 61, 'x': 62, 'y': 63, 'z': 64}\n",
      "['\\n' ' ' '!' '$' '&' \"'\" ',' '-' '.' '3' ':' ';' '?' 'A' 'B' 'C' 'D' 'E'\n",
      " 'F' 'G' 'H' 'I' 'J' 'K' 'L' 'M' 'N' 'O' 'P' 'Q' 'R' 'S' 'T' 'U' 'V' 'W'\n",
      " 'X' 'Y' 'Z' 'a' 'b' 'c' 'd' 'e' 'f' 'g' 'h' 'i' 'j' 'k' 'l' 'm' 'n' 'o'\n",
      " 'p' 'q' 'r' 's' 't' 'u' 'v' 'w' 'x' 'y' 'z']\n"
     ]
    }
   ],
   "source": [
    "# build mapping char -> id\n",
    "char2idx = {char:idx for idx, char in enumerate(vocab)}\n",
    "print(char2idx)\n",
    "\n",
    "idx2char = np.array(vocab)\n",
    "print(idx2char)"
   ]
  },
  {
   "cell_type": "markdown",
   "metadata": {},
   "source": [
    "### 1.4 将文本数据集转换为ID数据集"
   ]
  },
  {
   "cell_type": "code",
   "execution_count": 5,
   "metadata": {},
   "outputs": [
    {
     "name": "stdout",
     "output_type": "stream",
     "text": [
      "[18 47 56 57 58  1 15 47 58 47]\n",
      "First Citi\n"
     ]
    }
   ],
   "source": [
    "text_as_int = np.array([char2idx[c] for c in text])\n",
    "print(text_as_int[:10])\n",
    "print(text[:10])"
   ]
  },
  {
   "cell_type": "markdown",
   "metadata": {},
   "source": [
    "### 1.5 将ID数据集转为dataset，并设定句子长度"
   ]
  },
  {
   "cell_type": "code",
   "execution_count": 6,
   "metadata": {},
   "outputs": [
    {
     "name": "stdout",
     "output_type": "stream",
     "text": [
      "tf.Tensor(18, shape=(), dtype=int32) F\n",
      "tf.Tensor(\n",
      "[18 47 56 57 58  1 15 47 58 47 64 43 52 10  0 14 43 44 53 56 43  1 61 43\n",
      "  1 54 56 53 41 43 43 42  1 39 52 63  1 44 59 56 58 46 43 56  6  1 46 43\n",
      " 39 56  1 51 43  1 57 54 43 39 49  8  0  0 13 50 50 10  0 31 54 43 39 49\n",
      "  6  1 57 54 43 39 49  8  0  0 18 47 56 57 58  1 15 47 58 47 64 43 52 10\n",
      "  0 37 53 59  1], shape=(101,), dtype=int32)\n",
      "'First Citizen:\\nBefore we proceed any further, hear me speak.\\n\\nAll:\\nSpeak, speak.\\n\\nFirst Citizen:\\nYou '\n"
     ]
    }
   ],
   "source": [
    "char_dataset = tf.data.Dataset.from_tensor_slices(text_as_int)\n",
    "seq_length = 100   # 设置句子长度（并不是以自然的句子方式结尾，而是限定长度）\n",
    "seq_dataset = char_dataset.batch(\n",
    "    seq_length+1, # 训练集与目标集要错一位进行预测\n",
    "    drop_remainder=True)  # 最后一批如果长度不满足seq_length + 1则舍去\n",
    "\n",
    "for ch_id in char_dataset.take(1):\n",
    "    print(ch_id, idx2char[ch_id.numpy()])\n",
    "    \n",
    "for seq_id in seq_dataset.take(1):\n",
    "    print(seq_id)\n",
    "    print(repr(\"\".join(idx2char[seq_id.numpy()])))"
   ]
  },
  {
   "cell_type": "markdown",
   "metadata": {},
   "source": [
    "### 1.6 划分数据集为train_data和_train_labels"
   ]
  },
  {
   "cell_type": "code",
   "execution_count": 7,
   "metadata": {},
   "outputs": [
    {
     "name": "stdout",
     "output_type": "stream",
     "text": [
      "Input: \n",
      "[18 47 56 57 58  1 15 47 58 47 64 43 52 10  0 14 43 44 53 56 43  1 61 43\n",
      "  1 54 56 53 41 43 43 42  1 39 52 63  1 44 59 56 58 46 43 56  6  1 46 43\n",
      " 39 56  1 51 43  1 57 54 43 39 49  8  0  0 13 50 50 10  0 31 54 43 39 49\n",
      "  6  1 57 54 43 39 49  8  0  0 18 47 56 57 58  1 15 47 58 47 64 43 52 10\n",
      "  0 37 53 59]\n",
      "Output: \n",
      "[47 56 57 58  1 15 47 58 47 64 43 52 10  0 14 43 44 53 56 43  1 61 43  1\n",
      " 54 56 53 41 43 43 42  1 39 52 63  1 44 59 56 58 46 43 56  6  1 46 43 39\n",
      " 56  1 51 43  1 57 54 43 39 49  8  0  0 13 50 50 10  0 31 54 43 39 49  6\n",
      "  1 57 54 43 39 49  8  0  0 18 47 56 57 58  1 15 47 58 47 64 43 52 10  0\n",
      " 37 53 59  1]\n"
     ]
    }
   ],
   "source": [
    "def split_input_target(id_text):\n",
    "    \"\"\" abcde -> abcd(input), bcde(output) \"\"\"\n",
    "    return id_text[0:-1], id_text[1:]\n",
    "\n",
    "seq_dataset = seq_dataset.map(split_input_target)\n",
    "\n",
    "for item in seq_dataset.take(1): # 解包\n",
    "    print(\"Input: \")\n",
    "    print(item[0].numpy())\n",
    "    print(\"Output: \")\n",
    "    print(item[1].numpy())"
   ]
  },
  {
   "cell_type": "code",
   "execution_count": 8,
   "metadata": {},
   "outputs": [
    {
     "name": "stdout",
     "output_type": "stream",
     "text": [
      "(<tf.Tensor: id=61, shape=(64, 100), dtype=int32, numpy=\n",
      "array([[63,  1, 42, ..., 43, 61, 57],\n",
      "       [30, 21, 34, ...,  1, 46, 39],\n",
      "       [42,  1, 58, ..., 63, 53, 59],\n",
      "       ...,\n",
      "       [57, 47, 52, ..., 42, 53, 53],\n",
      "       [ 1, 57, 53, ..., 53, 52,  1],\n",
      "       [52,  1, 51, ..., 56, 43,  5]])>, <tf.Tensor: id=62, shape=(64, 100), dtype=int32, numpy=\n",
      "array([[ 1, 42, 53, ..., 61, 57, 12],\n",
      "       [21, 34, 17, ..., 46, 39, 52],\n",
      "       [ 1, 58, 53, ..., 53, 59,  1],\n",
      "       ...,\n",
      "       [47, 52, 41, ..., 53, 53, 56],\n",
      "       [57, 53, 53, ..., 52,  1, 58],\n",
      "       [ 1, 51, 63, ..., 43,  5, 57]])>)\n"
     ]
    }
   ],
   "source": [
    "batch_size = 64\n",
    "buffer_size = 10000\n",
    "\n",
    "seq_dataset = seq_dataset.shuffle(buffer_size).batch(\n",
    "    batch_size, drop_remainder=True)\n",
    "\n",
    "for item in seq_dataset.take(1):\n",
    "    print(item)"
   ]
  },
  {
   "cell_type": "markdown",
   "metadata": {
    "toc-hr-collapsed": false
   },
   "source": [
    "## 2. RNN建模"
   ]
  },
  {
   "cell_type": "markdown",
   "metadata": {},
   "source": [
    "### 2.1 建模"
   ]
  },
  {
   "cell_type": "code",
   "execution_count": 9,
   "metadata": {},
   "outputs": [
    {
     "name": "stdout",
     "output_type": "stream",
     "text": [
      "Model: \"sequential\"\n",
      "_________________________________________________________________\n",
      "Layer (type)                 Output Shape              Param #   \n",
      "=================================================================\n",
      "embedding (Embedding)        (64, None, 256)           16640     \n",
      "_________________________________________________________________\n",
      "lstm (LSTM)                  (64, None, 200)           365600    \n",
      "_________________________________________________________________\n",
      "dense (Dense)                (64, None, 65)            13065     \n",
      "=================================================================\n",
      "Total params: 395,305\n",
      "Trainable params: 395,305\n",
      "Non-trainable params: 0\n",
      "_________________________________________________________________\n"
     ]
    }
   ],
   "source": [
    "vocab_size = len(vocab)\n",
    "embedding_dim = 256\n",
    "rnn_units = 200\n",
    "\n",
    "def build_model(vocab_size, embedding_dim, rnn_units, batch_size):\n",
    "    model = keras.models.Sequential([\n",
    "        keras.layers.Embedding(vocab_size,\n",
    "                               embedding_dim,\n",
    "                               batch_input_shape=[batch_size, None]),\n",
    "        keras.layers.LSTM(units=rnn_units,\n",
    "                          stateful=True,\n",
    "                          recurrent_initializer=\"glorot_uniform\",\n",
    "                          return_sequences=True),\n",
    "        keras.layers.Dense(vocab_size)\n",
    "    ])\n",
    "    return model\n",
    "\n",
    "model = build_model(vocab_size=vocab_size,\n",
    "                    embedding_dim=embedding_dim,\n",
    "                    rnn_units=rnn_units,\n",
    "                    batch_size=batch_size)\n",
    "\n",
    "model.summary()"
   ]
  },
  {
   "cell_type": "markdown",
   "metadata": {},
   "source": [
    "### 2.2 使用初始模型进行预测 "
   ]
  },
  {
   "cell_type": "code",
   "execution_count": 10,
   "metadata": {},
   "outputs": [
    {
     "name": "stdout",
     "output_type": "stream",
     "text": [
      "(64, 100, 65)\n"
     ]
    }
   ],
   "source": [
    "for input_example_batch, target_example_batch in seq_dataset.take(1):\n",
    "    # 利用初始化的模型进行预测\n",
    "    example_batch_predictions = model(input_example_batch)  \n",
    "    print(example_batch_predictions.shape)"
   ]
  },
  {
   "cell_type": "code",
   "execution_count": 11,
   "metadata": {},
   "outputs": [
    {
     "name": "stdout",
     "output_type": "stream",
     "text": [
      "tf.Tensor(\n",
      "[[60]\n",
      " [45]\n",
      " [31]\n",
      " [54]\n",
      " [17]\n",
      " [50]\n",
      " [20]\n",
      " [ 4]\n",
      " [13]\n",
      " [ 6]\n",
      " [30]\n",
      " [51]\n",
      " [23]\n",
      " [18]\n",
      " [ 9]\n",
      " [32]\n",
      " [29]\n",
      " [36]\n",
      " [38]\n",
      " [51]\n",
      " [ 5]\n",
      " [31]\n",
      " [54]\n",
      " [64]\n",
      " [30]\n",
      " [64]\n",
      " [48]\n",
      " [50]\n",
      " [23]\n",
      " [58]\n",
      " [42]\n",
      " [24]\n",
      " [14]\n",
      " [15]\n",
      " [ 8]\n",
      " [17]\n",
      " [ 0]\n",
      " [46]\n",
      " [48]\n",
      " [32]\n",
      " [20]\n",
      " [17]\n",
      " [53]\n",
      " [24]\n",
      " [16]\n",
      " [53]\n",
      " [41]\n",
      " [34]\n",
      " [ 4]\n",
      " [59]\n",
      " [32]\n",
      " [28]\n",
      " [48]\n",
      " [ 1]\n",
      " [10]\n",
      " [ 6]\n",
      " [49]\n",
      " [ 1]\n",
      " [62]\n",
      " [35]\n",
      " [ 1]\n",
      " [12]\n",
      " [24]\n",
      " [12]\n",
      " [ 2]\n",
      " [34]\n",
      " [24]\n",
      " [38]\n",
      " [48]\n",
      " [ 7]\n",
      " [41]\n",
      " [36]\n",
      " [ 7]\n",
      " [39]\n",
      " [34]\n",
      " [31]\n",
      " [35]\n",
      " [47]\n",
      " [22]\n",
      " [59]\n",
      " [23]\n",
      " [51]\n",
      " [18]\n",
      " [31]\n",
      " [34]\n",
      " [ 1]\n",
      " [58]\n",
      " [10]\n",
      " [50]\n",
      " [56]\n",
      " [51]\n",
      " [12]\n",
      " [56]\n",
      " [38]\n",
      " [40]\n",
      " [43]\n",
      " [26]\n",
      " [41]\n",
      " [52]\n",
      " [54]], shape=(100, 1), dtype=int64)\n",
      "tf.Tensor(\n",
      "[60 45 31 54 17 50 20  4 13  6 30 51 23 18  9 32 29 36 38 51  5 31 54 64\n",
      " 30 64 48 50 23 58 42 24 14 15  8 17  0 46 48 32 20 17 53 24 16 53 41 34\n",
      "  4 59 32 28 48  1 10  6 49  1 62 35  1 12 24 12  2 34 24 38 48  7 41 36\n",
      "  7 39 34 31 35 47 22 59 23 51 18 31 34  1 58 10 50 56 51 12 56 38 40 43\n",
      " 26 41 52 54], shape=(100,), dtype=int64)\n"
     ]
    }
   ],
   "source": [
    "# random sampling\n",
    "# greedy, random 贪心采样与随机采样\n",
    "# (100, 65) -> (100, 1)\n",
    "# tf.random.categorical输入维度必须为二维\n",
    "sample_indices = tf.random.categorical(logits=example_batch_predictions[0],\n",
    "                                       num_samples=1)\n",
    "print(sample_indices)   \n",
    "sample_indices = tf.squeeze(sample_indices, axis=-1)\n",
    "print(sample_indices)"
   ]
  },
  {
   "cell_type": "code",
   "execution_count": 12,
   "metadata": {},
   "outputs": [
    {
     "name": "stdout",
     "output_type": "stream",
     "text": [
      "Input:  ', I spy some pity in thy looks:\\nO, if thine eye be not a flatterer,\\nCome thou on my side, and entrea'\n",
      "\n",
      "Output:  ' I spy some pity in thy looks:\\nO, if thine eye be not a flatterer,\\nCome thou on my side, and entreat'\n",
      "\n",
      "Prediction:  \"vgSpElH&A,RmKF3TQXZm'SpzRzjlKtdLBC.E\\nhjTHEoLDocV&uTPj :,k xW ?L?!VLZj-cX-aVSWiJuKmFSV t:lrm?rZbeNcnp\"\n"
     ]
    }
   ],
   "source": [
    "print(\"Input: \", repr(\"\".join(idx2char[input_example_batch[0]])))\n",
    "print()\n",
    "print(\"Output: \", repr(\"\".join(idx2char[target_example_batch[0]])))\n",
    "print()\n",
    "print(\"Prediction: \", repr(\"\".join(idx2char[sample_indices])))"
   ]
  },
  {
   "cell_type": "code",
   "execution_count": 13,
   "metadata": {},
   "outputs": [
    {
     "name": "stdout",
     "output_type": "stream",
     "text": [
      "(64, 100)\n",
      "(64, 100, 65)\n",
      "(64, 100)\n",
      "4.174729\n"
     ]
    }
   ],
   "source": [
    "def loss(labels, logits):\n",
    "    return keras.losses.sparse_categorical_crossentropy(\n",
    "        labels,\n",
    "        logits,\n",
    "        from_logits=True) # 最后一层神经网络中没有激活函数softmax，\n",
    "                          # 所以不是归一化形式\n",
    "\n",
    "model.compile(optimizer=\"adam\", loss=loss)\n",
    "example_loss = loss(target_example_batch, example_batch_predictions)\n",
    "print(target_example_batch.shape)\n",
    "print(example_batch_predictions.shape)\n",
    "print(example_loss.shape)\n",
    "print(example_loss.numpy().mean())"
   ]
  },
  {
   "cell_type": "code",
   "execution_count": 14,
   "metadata": {},
   "outputs": [
    {
     "name": "stdout",
     "output_type": "stream",
     "text": [
      "Epoch 1/10\n",
      "172/172 [==============================] - 49s 287ms/step - loss: 2.8063\n",
      "Epoch 2/10\n",
      "172/172 [==============================] - 51s 297ms/step - loss: 2.1752\n",
      "Epoch 3/10\n",
      "172/172 [==============================] - 55s 322ms/step - loss: 1.9973\n",
      "Epoch 4/10\n",
      "172/172 [==============================] - 59s 346ms/step - loss: 1.8886\n",
      "Epoch 5/10\n",
      "172/172 [==============================] - 58s 337ms/step - loss: 1.8115\n",
      "Epoch 6/10\n",
      "172/172 [==============================] - 57s 333ms/step - loss: 1.7538\n",
      "Epoch 7/10\n",
      "172/172 [==============================] - 59s 340ms/step - loss: 1.7084\n",
      "Epoch 8/10\n",
      "172/172 [==============================] - 60s 347ms/step - loss: 1.6731\n",
      "Epoch 9/10\n",
      "172/172 [==============================] - 60s 348ms/step - loss: 1.6428\n",
      "Epoch 10/10\n",
      "172/172 [==============================] - 59s 342ms/step - loss: 1.6168\n"
     ]
    }
   ],
   "source": [
    "output_dir = \"./text_generation_checkpoints\"\n",
    "if not os.path.exists(output_dir):\n",
    "    os.mkdir(output_dir)\n",
    "# 使用多个checkpoint文件记录每个epoch中的参数值，以前只用checkpoint记录所有\n",
    "# epoch中效果最好的模型，并且把参数记录在一个h5文件中，这里有所不同\n",
    "checkpoint_prefix = os.path.join(output_dir, \"ckpt_{epoch}\")\n",
    "checkpoint_callback = keras.callbacks.ModelCheckpoint(\n",
    "    filepath=checkpoint_prefix,\n",
    "    save_weights_only=True)\n",
    "\n",
    "epochs = 10\n",
    "history = model.fit(seq_dataset, \n",
    "                    epochs=epochs,\n",
    "                    callbacks=[checkpoint_callback])"
   ]
  },
  {
   "cell_type": "code",
   "execution_count": 15,
   "metadata": {},
   "outputs": [
    {
     "data": {
      "image/png": "[encoded data removed]",
      "text/plain": [
       "<Figure size 432x288 with 1 Axes>"
      ]
     },
     "metadata": {
      "needs_background": "light"
     },
     "output_type": "display_data"
    }
   ],
   "source": [
    "history.history.keys()\n",
    "def plot_loss_curves(history):\n",
    "    plt.plot(range(epochs), history.history[\"loss\"])\n",
    "    plt.grid(True)\n",
    "    plt.show()\n",
    "\n",
    "plot_loss_curves(history)"
   ]
  },
  {
   "cell_type": "markdown",
   "metadata": {},
   "source": [
    "## 3. 使用checkpoint载入模型"
   ]
  },
  {
   "cell_type": "code",
   "execution_count": 16,
   "metadata": {},
   "outputs": [
    {
     "name": "stdout",
     "output_type": "stream",
     "text": [
      "./text_generation_checkpoints\\ckpt_10\n"
     ]
    }
   ],
   "source": [
    "print(tf.train.latest_checkpoint(output_dir))"
   ]
  },
  {
   "cell_type": "code",
   "execution_count": 17,
   "metadata": {},
   "outputs": [
    {
     "name": "stdout",
     "output_type": "stream",
     "text": [
      "Model: \"sequential_1\"\n",
      "_________________________________________________________________\n",
      "Layer (type)                 Output Shape              Param #   \n",
      "=================================================================\n",
      "embedding_1 (Embedding)      (1, None, 256)            16640     \n",
      "_________________________________________________________________\n",
      "lstm_1 (LSTM)                (1, None, 200)            365600    \n",
      "_________________________________________________________________\n",
      "dense_1 (Dense)              (1, None, 65)             13065     \n",
      "=================================================================\n",
      "Total params: 395,305\n",
      "Trainable params: 395,305\n",
      "Non-trainable params: 0\n",
      "_________________________________________________________________\n"
     ]
    }
   ],
   "source": [
    "model2 = build_model(vocab_size,\n",
    "                     embedding_dim,\n",
    "                     rnn_units,\n",
    "                     batch_size=1)\n",
    "model2.load_weights(tf.train.latest_checkpoint(output_dir))\n",
    "model2.build(tf.TensorShape([1, None])) # model2.build([1, None])\n",
    "                                        # 输入是一个变长\n",
    "# start ch sequence A,\n",
    "# A -> model -> b\n",
    "# A.append(b) -> B\n",
    "# B(Ab) -> model -> c\n",
    "# b.append(c) -> C\n",
    "# C(Abc) -> model -> ...\n",
    "model2.summary()"
   ]
  },
  {
   "cell_type": "markdown",
   "metadata": {},
   "source": [
    "## 4.生成文本"
   ]
  },
  {
   "cell_type": "code",
   "execution_count": 24,
   "metadata": {},
   "outputs": [
    {
     "name": "stdout",
     "output_type": "stream",
     "text": [
      "All: here do the hands, he and you deeming to and come:\n",
      "If the compersed to my sugen and father\n",
      "That shall the wind the chast of honour with a faure.\n",
      "\n",
      "BIONDELLO:\n",
      "I to my say the comes to be death,\n",
      "And set the proud in the vein the sinds some street the of your great strock\n",
      "To you will gable of my lag to men him:\n",
      "The seech the court and the worst the dest of a bear and did as be the made of the shall have be enough to have\n",
      "The plack is strain must the last the erest, and they son my for the mouth,\n",
      "Where it marrichion of the for they hast\n",
      "The rear of your treet love the father,\n",
      "The bear the many son my strong the fortune to be to so still prince,\n",
      "In the could not in the shall be true thee and matter man,\n",
      "What the bore the mean the should not this love.\n",
      "\n",
      "CAMILLO:\n",
      "I that the shall than the pasting and here.\n",
      "\n",
      "LADY CAPULET:\n",
      "What you the such a more that see such advice me a light.\n",
      "\n",
      "BRUTUS:\n",
      "Nor chart our mind me here and pleased to suce\n",
      "That the life, sir, the parter of chires\n",
      "To make that I see t\n"
     ]
    }
   ],
   "source": [
    "def generate_text(model, start_string, num_generate=1000):\n",
    "    input_eval = [char2idx[ch] for ch in start_string]\n",
    "    input_eval = tf.expand_dims(input_eval, axis=0)\n",
    "    \n",
    "    text_generated = []\n",
    "    model.reset_states()     # ???????????\n",
    "    \n",
    "    # temperature > 1, random \n",
    "    # temperature < 1, greedy\n",
    "    temperature = 0.5\n",
    "    \n",
    "    for _ in range(num_generate):\n",
    "        # 1. model inderence -> predictions\n",
    "        # 2. sample -> ch -> text_generated.\n",
    "        # 3. update input_eval\n",
    "        \n",
    "        # predictions : [batch_size, input_eval_len, vocab_size]\n",
    "        predictions = model(input_eval)\n",
    "        # predicions: logits -> softmax -> prob\n",
    "        # softmax: e^xi\n",
    "        # eg: 4, 2   e^4/(e^4 + e^2) = 0.88, e^2/(e^4 + e^2) = 0.12\n",
    "        # eg: 2, 1   e^2/(e^2 + e) = 0.73, e/(e^2 + e) = 0.27\n",
    "        predictions = predictions / temperature\n",
    "        # predictions : [input_eval_len, vocab_size]\n",
    "        predictions = tf.squeeze(predictions, 0)\n",
    "        # prediction_ids: [input_eval_len, 1]\n",
    "        # a b c -> b c d\n",
    "        prediction_id = tf.random.categorical(predictions,\n",
    "                                              num_samples=1)[-1, 0].numpy()\n",
    "        text_generated.append(idx2char[prediction_id])\n",
    "        input_eval = tf.expand_dims([prediction_id], 0)\n",
    "    return start_string + \"\".join(text_generated)\n",
    "\n",
    "new_text = generate_text(model2, \"All: \")\n",
    "print(new_text)"
   ]
  }
 ],
 "metadata": {
  "kernelspec": {
   "display_name": "Python 3",
   "language": "python",
   "name": "python3"
  },
  "language_info": {
   "codemirror_mode": {
    "name": "ipython",
    "version": 3
   },
   "file_extension": ".py",
   "mimetype": "text/x-python",
   "name": "python",
   "nbconvert_exporter": "python",
   "pygments_lexer": "ipython3",
   "version": "3.7.5"
  }
 },
 "nbformat": 4,
 "nbformat_minor": 4
}
