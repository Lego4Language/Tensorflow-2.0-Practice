{
 "cells": [
  {
   "cell_type": "code",
   "execution_count": 1,
   "metadata": {},
   "outputs": [
    {
     "name": "stdout",
     "output_type": "stream",
     "text": [
      "sys.version_info(major=3, minor=7, micro=5, releaselevel='final', serial=0)\n",
      "matplotlib\n",
      "3.1.2\n",
      "numpy\n",
      "1.17.4\n",
      "pandas\n",
      "0.25.3\n",
      "sklearn\n",
      "0.22\n",
      "tensorflow\n",
      "2.0.0\n",
      "tensorflow_core.keras\n",
      "2.2.4-tf\n"
     ]
    }
   ],
   "source": [
    "import matplotlib as mpl\n",
    "import matplotlib.pyplot as plt\n",
    "%matplotlib inline\n",
    "import numpy as np\n",
    "import sklearn\n",
    "import pandas as pd\n",
    "import os\n",
    "import sys\n",
    "import tensorflow as tf\n",
    "from tensorflow import keras\n",
    "\n",
    "print(sys.version_info)\n",
    "for module in mpl, np, pd, sklearn, tf, keras:\n",
    "    print(module.__name__)\n",
    "    print(module.__version__)"
   ]
  },
  {
   "cell_type": "markdown",
   "metadata": {},
   "source": [
    "## 1. 准备并处理数据"
   ]
  },
  {
   "cell_type": "code",
   "execution_count": 2,
   "metadata": {},
   "outputs": [
    {
     "name": "stdout",
     "output_type": "stream",
     "text": [
      "(20640, 8)\n",
      "(20640,)\n"
     ]
    }
   ],
   "source": [
    "# 获取数据\n",
    "from sklearn.datasets import fetch_california_housing\n",
    "housing = fetch_california_housing()\n",
    "print(housing.data.shape)\n",
    "print(housing.target.shape)"
   ]
  },
  {
   "cell_type": "code",
   "execution_count": 3,
   "metadata": {},
   "outputs": [
    {
     "name": "stdout",
     "output_type": "stream",
     "text": [
      "(11610, 8) (11610,)\n",
      "(3870, 8) (3870,)\n",
      "(5160, 8) (5160,)\n"
     ]
    }
   ],
   "source": [
    "# 划分数据集\n",
    "from sklearn.model_selection import train_test_split\n",
    "\n",
    "x_train_all, x_test, y_train_all, y_test = train_test_split(housing.data, \n",
    "                                                            housing.target,\n",
    "                                                            random_state= 1)\n",
    "x_train, x_valid, y_train, y_valid = train_test_split(x_train_all, \n",
    "                                                      y_train_all, \n",
    "                                                      random_state = 2)\n",
    "print(x_train.shape, y_train.shape)\n",
    "print(x_valid.shape, y_valid.shape)\n",
    "print(x_test.shape, y_test.shape)"
   ]
  },
  {
   "cell_type": "code",
   "execution_count": 4,
   "metadata": {},
   "outputs": [],
   "source": [
    "# 归一化\n",
    "from sklearn.preprocessing import StandardScaler\n",
    "\n",
    "scaler = StandardScaler()\n",
    "x_train_scaled = scaler.fit_transform(x_train)\n",
    "x_valid_scaled = scaler.transform(x_valid)\n",
    "x_test_scaled = scaler.transform(x_test)"
   ]
  },
  {
   "cell_type": "markdown",
   "metadata": {},
   "source": [
    "## 2. 建立模型"
   ]
  },
  {
   "cell_type": "markdown",
   "metadata": {},
   "source": [
    "model.fit()函数中所做上的事\n",
    "1. batch 遍历训练集 metric：\n",
    "    1.1 自动求导；\n",
    "2. epoch结束 验证集处理 metric；"
   ]
  },
  {
   "cell_type": "code",
   "execution_count": 5,
   "metadata": {},
   "outputs": [
    {
     "name": "stdout",
     "output_type": "stream",
     "text": [
      "tf.Tensor(6.3333335, shape=(), dtype=float32)\n",
      "tf.Tensor(3.6666667, shape=(), dtype=float32)\n",
      "tf.Tensor(3.6666667, shape=(), dtype=float32)\n",
      "tf.Tensor(4.0, shape=(), dtype=float32)\n"
     ]
    }
   ],
   "source": [
    "# metric具有积累性质\n",
    "metric = keras.metrics.MeanSquaredError()\n",
    "print(metric([5., 0, 5.],[2., 1., 2]))\n",
    "print(metric([0.],[1.]))\n",
    "print(metric.result())\n",
    "\n",
    "metric.reset_states()  # 清除积累值\n",
    "metric([1.], [3.])\n",
    "print(metric.result())"
   ]
  },
  {
   "cell_type": "markdown",
   "metadata": {},
   "source": [
    "### 2.1 【重点】自定义训练过程"
   ]
  },
  {
   "cell_type": "code",
   "execution_count": 6,
   "metadata": {},
   "outputs": [
    {
     "name": "stdout",
     "output_type": "stream",
     "text": [
      "WARNING:tensorflow:Layer dense is casting an input tensor from dtype float64 to the layer's dtype of float32, which is new behavior in TensorFlow 2.  The layer has dtype float32 because it's dtype defaults to floatx.\n",
      "\n",
      "If you intended to run this layer in float32, you can safely ignore this warning. If in doubt, this warning is likely only an issue if you are porting a TensorFlow 1.X model to TensorFlow 2.\n",
      "\n",
      "To change all layers to have dtype float64 by default, call `tf.keras.backend.set_floatx('float64')`. To change just this layer, pass dtype='float64' to the layer constructor. If you are the author of this layer, you can disable autocasting by passing autocast=False to the base Layer constructor.\n",
      "\n",
      "Epoch 0  train mse: 2.1446233 0  train mse: 5.069725 train mse: 4.6389093 0  train mse: 4.2632318 0  train mse: 4.118344 0  train mse: 4.0964760  train mse: 3.958511 0  train mse: 3.7676942 0  train mse: 3.666484 0  train mse: 3.6309779 0  train mse: 3.1755207 0  train mse: 3.1442764 0  train mse: 2.83885862.6072872 0  train mse: 2.509469 0  train mse: 2.4320707 0  train mse: 2.3587897 0  train mse: 2.24349570  train mse: 2.2011254 0  train mse: 2.1918316\t valid mse:  1.3936315259330059\n",
      "Epoch 1  train mse: 1.3446841\t valid mse:  1.3726129729094652791  train mse: 1.33830291  train mse: 1.3442458 1  train mse: 1.3620442 1  train mse: 1.3580438 1  train mse: 1.3565509 1  train mse: 1.3624592 1  train mse: 1.355382 1  train mse: 1.3450296 1.341109 1  train mse: 1.3390809 1  train mse: 1.3430736 1  train mse: 1.3436995\n",
      "Epoch 2  train mse: 1.3504516\t valid mse:  1.3670535614840216 mse: 1.35049972  train mse: 1.362559 2  train mse: 1.3591733\n",
      "Epoch 3  train mse: 1.3479452\t valid mse:  1.361361054402936ain mse: 1.3586477 3  train mse: 1.345977 3  train mse: 1.3450732 3  train mse: 1.3260212 3  train mse: 1.3464272\n",
      "Epoch 4  train mse: 1.3502241 4  train mse: 1.3340886 4  train mse: 1.3533486\t valid mse:  1.3597087935994627\n",
      "Epoch 5  train mse: 1.3201425\t valid mse:  1.356026593709007n mse: 1.31781765  train mse: 1.3259037\n",
      "Epoch 6  train mse: 1.3729587\t valid mse:  1.3538078512915852 6  train mse: 1.3718259\n",
      "Epoch 7  train mse: 1.3553345\t valid mse:  1.351918245606792mse: 1.3096485 7  train mse: 1.32211771.355712 7  train mse: 1.3568467\n",
      "Epoch 8  train mse: 1.3486292\t valid mse:  1.350846510642811n mse: 1.3363156 8  train mse: 1.345169 1.3443952\n",
      "Epoch 9  train mse: 1.3172398 9  train mse: 1.2814268 train mse: 1.2790663 1.30125989  train mse: 1.3187878\t valid mse:  1.349358219416768\n",
      "Epoch 10  train mse: 1.2943175\t valid mse:  1.34891685100557132 10  train mse: 1.2975171 10  train mse: 1.2889217 10  train mse: 1.2891988 10  train mse: 1.2951868\n",
      "Epoch 11  train mse: 1.3200886\t valid mse:  1.3480637607693389ain mse: 1.3049535 11  train mse: 1.31538 11  train mse: 1.326425211  train mse: 1.3242444\n",
      "Epoch 12  train mse: 1.3068851\t valid mse:  1.3477812661852426ain mse: 1.3728956 12  train mse: 1.3175988 12  train mse: 1.2900914 12  train mse: 1.3157525 12  train mse: 1.3124151 12  train mse: 1.3190473 train mse: 1.315879112  train mse: 1.3068078\n",
      "Epoch 13  train mse: 1.3372982\t valid mse:  1.346684282477242rain mse: 1.3094745 13  train mse: 1.3129607 train mse: 1.3301411\n",
      "Epoch 14  train mse: 1.3023037\t valid mse:  1.3465399047777846621.280804 14  train mse: 1.2852334 14  train mse: 1.2949104 14  train mse: 1.3020333\n",
      "Epoch 15  train mse: 1.3023797\t valid mse:  1.3463575324011399rain mse: 1.2876232 15  train mse: 1.292034 15  train mse: 1.3057964 train mse: 1.3036125\n",
      "Epoch 16  train mse: 1.296506\t valid mse:  1.3458245081522382rain mse: 1.3009253 16  train mse: 1.2972763 16  train mse: 1.2885388\n",
      "Epoch 17  train mse: 1.3093425\t valid mse:  1.3454331823228323rain mse: 1.3419504 17  train mse: 1.3613149 17  train mse: 1.3522253 17  train mse: 1.3355004 17  train mse: 1.3319148 17  train mse: 1.3085382\n",
      "Epoch 18  train mse: 1.3022766\t valid mse:  1.3452215259838574ain mse: 1.305838 18  train mse: 1.3028888\n",
      "Epoch 19  train mse: 1.2701632 19  train mse: 1.236378119  train mse: 1.3331336 19  train mse: 1.32822011.2717731 19  train mse: 1.2660567 19  train mse: 1.2617903\t valid mse:  1.3453604991600523\n",
      "Epoch 20  train mse: 1.304525\t valid mse:  1.345189614002332\n",
      "Epoch 21  train mse: 1.304962361.4444458 21  train mse: 1.3223283 1.3180977 21  train mse: 1.3078343\t valid mse:  1.3455422533764425\n",
      "Epoch 22  train mse: 1.2963992\t valid mse:  1.3446074424875825ain mse: 1.2859423 22  train mse: 1.284148 22  train mse: 1.2894942 22  train mse: 1.2926582 22  train mse: 1.2888789 22  train mse: 1.2907012 22  train mse: 1.2980627\n",
      "Epoch 23  train mse: 1.3106619\t valid mse:  1.3442456767454687\n",
      "Epoch 24  train mse: 1.2982996\t valid mse:  1.3443138983626168mse: 1.3021008\n",
      "Epoch 25  train mse: 1.3059925\t valid mse:  1.3440102168832049mse: 1.3095665 25  train mse: 1.3002716\n",
      "Epoch 26  train mse: 1.29303881.1871374 26  train mse: 1.2700576 26  train mse: 1.2708788 1.2841396\t valid mse:  1.3440205963066898\n",
      "Epoch 27  train mse: 1.3053215\t valid mse:  1.3436128900835733ain mse: 1.2985079 1.3069373\n",
      "Epoch 28  train mse: 1.3586435\t valid mse:  1.3443702417474466ain mse: 1.31149731.331124\n",
      "Epoch 29  train mse: 1.259121\t valid mse:  1.3437134562365978rain mse: 1.2306854 29  train mse: 1.264807\n",
      "Epoch 30  train mse: 1.3071564\t valid mse:  1.34347226007373689 30  train mse: 1.3015842 30  train mse: 1.308842\n",
      "Epoch 31  train mse: 1.2912338\t valid mse:  1.3431892192588426ain mse: 1.283201 31  train mse: 1.2764924 31  train mse: 1.2728608\n",
      "Epoch 32  train mse: 1.2686596\t valid mse:  1.3432958081152047in mse: 1.3096437 32  train mse: 1.326826832  train mse: 1.2708725 32  train mse: 1.2771472\n",
      "Epoch 33  train mse: 1.3464015\t valid mse:  1.343156712605596rain mse: 1.3614856 train mse: 1.35194291.3600835 33  train mse: 1.349865\n",
      "Epoch 34  train mse: 1.331964\t valid mse:  1.3433131669660876ain mse: 1.3544916 34  train mse: 1.3322179\n",
      "Epoch 35  train mse: 1.2621869\t valid mse:  1.3434029633737035: 1.2657753 35  train mse: 1.2646377 train mse: 1.2602394\n",
      "Epoch 36  train mse: 1.2575661\t valid mse:  1.3427467608496223856 36  train mse: 1.2562557\n",
      "Epoch 37  train mse: 1.30926\t valid mse:  1.342911076258592train mse: 1.2680321 37  train mse: 1.2870446 37  train mse: 1.2849889\n",
      "Epoch 38  train mse: 1.323593\t valid mse:  1.3426176537321797rain mse: 1.3245332\n",
      "Epoch 39  train mse: 1.2713586 39  train mse: 1.4342968 39  train mse: 1.2817539\t valid mse:  1.3425952907458139\n"
     ]
    }
   ],
   "source": [
    "epochs = 40\n",
    "batch_size = 32\n",
    "learning_rate = 1e-3\n",
    "steps_per_epoch = len(x_train_scaled) // batch_size\n",
    "optimizer = keras.optimizers.SGD(lr=learning_rate)\n",
    "metric = keras.metrics.MeanSquaredError()\n",
    "\n",
    "# 随机选择一批数据\n",
    "def random_batch(train_data, target, batch_size=batch_size):\n",
    "    idx = np.random.randint(0, len(train_data), size=batch_size)\n",
    "    return train_data[idx], target[idx]\n",
    "\n",
    "customized_model = keras.models.Sequential([\n",
    "    keras.layers.Dense(30, activation=\"selu\",\n",
    "                       input_shape=x_train.shape[1:]),\n",
    "    keras.layers.Dense(1),\n",
    "])\n",
    "\n",
    "# 遍历数据\n",
    "customized_history = []\n",
    "for epoch in range(epochs):\n",
    "    for step in range(steps_per_epoch):\n",
    "        # 计算loss\n",
    "        x_batch, y_batch = random_batch(x_train_scaled, y_train, batch_size)\n",
    "        with tf.GradientTape() as tape:\n",
    "            \"\"\"相当于  z=f(x)，这里使用把类当做函数来使用，因为类里实现了__call__方法，\n",
    "            而在模型里可能是用call方法实现，然后用__call__方法调用call来实现，因为在模\n",
    "            型子类api重写里面需要重写call函数来实现前向传播\"\"\"\n",
    "            y_pred = customized_model(x_batch)   \n",
    "            loss = tf.reduce_mean(keras.losses.mean_squared_error(y_batch, y_pred))\n",
    " \n",
    "        metric(y_batch, y_pred)\n",
    "        # 计算梯度\n",
    "        grads = tape.gradient(loss, customized_model.variables)\n",
    "        grads_and_vars = zip(grads, customized_model.variables)   # optimizer.apply_gradients\n",
    "        optimizer.apply_gradients(grads_and_vars)                 # 函数的输入格式要求\n",
    "        print(\"\\rEpoch\", epoch, \" train mse:\", metric.result().numpy(), end=\"\")\n",
    "    customized_history.append(metric.result().numpy())\n",
    "    metric.reset_states()       # 重置 metric\n",
    "    # 计算验证集损失\n",
    "    y_valid_pred= customized_model(x_valid_scaled)\n",
    "    valid_loss = tf.reduce_mean(keras.losses.mean_squared_error(\n",
    "                                y_valid_pred, y_valid))\n",
    "    print(\"\\t\", \"valid mse: \", valid_loss.numpy())"
   ]
  },
  {
   "cell_type": "markdown",
   "metadata": {},
   "source": [
    "### 2.2 使用keras现成模型"
   ]
  },
  {
   "cell_type": "code",
   "execution_count": 7,
   "metadata": {},
   "outputs": [
    {
     "name": "stdout",
     "output_type": "stream",
     "text": [
      "Train on 11610 samples, validate on 3870 samples\n",
      "Epoch 1/40\n",
      "11610/11610 [==============================] - 1s 85us/sample - loss: 0.9285 - val_loss: 0.6385\n",
      "Epoch 2/40\n",
      "11610/11610 [==============================] - 0s 34us/sample - loss: 0.6834 - val_loss: 0.5146\n",
      "Epoch 3/40\n",
      "11610/11610 [==============================] - 0s 37us/sample - loss: 0.5691 - val_loss: 0.4906\n",
      "Epoch 4/40\n",
      "11610/11610 [==============================] - 1s 50us/sample - loss: 0.4857 - val_loss: 0.4854\n",
      "Epoch 5/40\n",
      "11610/11610 [==============================] - 1s 59us/sample - loss: 0.4885 - val_loss: 0.4817\n",
      "Epoch 6/40\n",
      "11610/11610 [==============================] - 1s 45us/sample - loss: 0.4811 - val_loss: 0.4691\n",
      "Epoch 7/40\n",
      "11610/11610 [==============================] - 1s 47us/sample - loss: 0.4766 - val_loss: 0.5614\n",
      "Epoch 8/40\n",
      "11610/11610 [==============================] - 0s 36us/sample - loss: 0.5650 - val_loss: 0.4710\n",
      "Epoch 9/40\n",
      "11610/11610 [==============================] - 0s 36us/sample - loss: 0.4757 - val_loss: 0.4733\n",
      "Epoch 10/40\n",
      "11610/11610 [==============================] - 0s 39us/sample - loss: 0.4684 - val_loss: 0.4674\n",
      "Epoch 11/40\n",
      "11610/11610 [==============================] - 0s 36us/sample - loss: 0.4672 - val_loss: 0.4645\n"
     ]
    }
   ],
   "source": [
    "keras_model = keras.models.Sequential([\n",
    "    keras.layers.Dense(30, activation=\"selu\", input_shape=x_train.shape[1:]),\n",
    "    keras.layers.Dense(1)\n",
    "])\n",
    "\n",
    "keras_model.compile(loss=\"mse\", optimizer=\"sgd\", metric=[\"mse\"])\n",
    "\n",
    "callbacks = [keras.callbacks.EarlyStopping(patience=5, min_delta=1e-2)]\n",
    "keras_history = keras_model.fit(x_train_scaled, y_train,\n",
    "           epochs=40,\n",
    "           validation_data=(x_valid_scaled, y_valid),\n",
    "           callbacks=callbacks)"
   ]
  },
  {
   "cell_type": "code",
   "execution_count": 8,
   "metadata": {},
   "outputs": [
    {
     "data": {
      "image/png": "[encoded data removed]",
      "text/plain": [
       "<Figure size 1080x360 with 2 Axes>"
      ]
     },
     "metadata": {
      "needs_background": "light"
     },
     "output_type": "display_data"
    }
   ],
   "source": [
    "def plot_learning_curves(customized_history, keras_history):\n",
    "    plt.figure(figsize=(15,5))\n",
    "    plt.subplot(1, 2, 1)\n",
    "    plt.plot(pd.DataFrame(keras_history.history))\n",
    "    plt.title(\"Kears model\")\n",
    "    plt.grid(True)\n",
    "    plt.subplot(1, 2, 2)\n",
    "    plt.plot(range(len(customized_history)), customized_history, label=\"customized_history\")\n",
    "    plt.title(\"Customized model\")\n",
    "    plt.legend()\n",
    "    plt.grid(True)\n",
    "    plt.plot()\n",
    "\n",
    "plot_learning_curves(customized_history, keras_history)"
   ]
  },
  {
   "cell_type": "markdown",
   "metadata": {},
   "source": [
    "从上面两个图可以看出，keras经过优化的模型计算的损失更低更加平稳，这跟模型中的各种优化有关，而自己自定义的模型只是一个比较粗糙的，所以精确度更低并且并不是很稳定"
   ]
  }
 ],
 "metadata": {
  "kernelspec": {
   "display_name": "Python 3",
   "language": "python",
   "name": "python3"
  },
  "language_info": {
   "codemirror_mode": {
    "name": "ipython",
    "version": 3
   },
   "file_extension": ".py",
   "mimetype": "text/x-python",
   "name": "python",
   "nbconvert_exporter": "python",
   "pygments_lexer": "ipython3",
   "version": "3.7.5"
  }
 },
 "nbformat": 4,
 "nbformat_minor": 4
}
