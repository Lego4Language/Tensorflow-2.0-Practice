{
 "cells": [
  {
   "cell_type": "markdown",
   "metadata": {},
   "source": [
    "关于二阶梯度求导（自动微分求导有待研究）弄得不是很明白？？？？？？？？？？？？？？？？？？？"
   ]
  },
  {
   "cell_type": "code",
   "execution_count": 1,
   "metadata": {},
   "outputs": [
    {
     "name": "stdout",
     "output_type": "stream",
     "text": [
      "sys.version_info(major=3, minor=7, micro=5, releaselevel='final', serial=0)\n",
      "matplotlib\n",
      "3.1.2\n",
      "numpy\n",
      "1.17.4\n",
      "pandas\n",
      "0.25.3\n",
      "sklearn\n",
      "0.22\n",
      "tensorflow\n",
      "2.0.0\n",
      "tensorflow_core.keras\n",
      "2.2.4-tf\n"
     ]
    }
   ],
   "source": [
    "import matplotlib as mpl\n",
    "import matplotlib.pyplot as plt\n",
    "%matplotlib inline\n",
    "import numpy as np\n",
    "import sklearn\n",
    "import pandas as pd\n",
    "import os\n",
    "import sys\n",
    "import tensorflow as tf\n",
    "from tensorflow import keras\n",
    "\n",
    "print(sys.version_info)\n",
    "for module in mpl, np, pd, sklearn, tf, keras:\n",
    "    print(module.__name__)\n",
    "    print(module.__version__)"
   ]
  },
  {
   "cell_type": "code",
   "execution_count": 2,
   "metadata": {},
   "outputs": [
    {
     "name": "stdout",
     "output_type": "stream",
     "text": [
      "7.999999999999119\n"
     ]
    }
   ],
   "source": [
    "# 常规求导方法\n",
    "def f(x):\n",
    "    return 3. * x ** 2 + 2. * x -1\n",
    "\n",
    "def approximate_derivative(f, x, eps=1e-3):\n",
    "    return (f(x + eps) - f(x-eps)) / (2 * eps)\n",
    "\n",
    "print(approximate_derivative(f, 1.))"
   ]
  },
  {
   "cell_type": "code",
   "execution_count": 3,
   "metadata": {},
   "outputs": [
    {
     "name": "stdout",
     "output_type": "stream",
     "text": [
      "(8.999999999993236, 41.999999999994486)\n"
     ]
    }
   ],
   "source": [
    "# 多变量求偏导方法\n",
    "def g(x1, x2):\n",
    "    return (x1 + 5) * (x2 ** 2)\n",
    "\n",
    "def approximate_gradient(g, x1, x2, eps=1e-3):\n",
    "    dg_x1 = approximate_derivative(lambda x: g(x, x2), x1, eps)\n",
    "    dg_x2 = approximate_derivative(lambda x: g(x1, x), x2, eps)\n",
    "    return dg_x1, dg_x2\n",
    "\n",
    "print(approximate_gradient(g, 2., 3.))"
   ]
  },
  {
   "cell_type": "code",
   "execution_count": 4,
   "metadata": {},
   "outputs": [
    {
     "name": "stdout",
     "output_type": "stream",
     "text": [
      "tf.Tensor(9.0, shape=(), dtype=float32)\n",
      "GradientTape.gradient can only be called once on non-persistent tapes.\n"
     ]
    }
   ],
   "source": [
    "x1 = tf.Variable(2.0)\n",
    "x2 = tf.Variable(3.0)\n",
    "with tf.GradientTape() as tape:\n",
    "    z = g(x1, x2)\n",
    "    \n",
    "dz_x1 = tape.gradient(z, x1)\n",
    "print(dz_x1)\n",
    "\n",
    "# tape只能运行一次，然后就被自动删除回收\n",
    "try:\n",
    "    dz_x2 = tape.gradient(z, x2)\n",
    "    print(dz_x2)\n",
    "except RuntimeError as ex:\n",
    "    print(ex)"
   ]
  },
  {
   "cell_type": "code",
   "execution_count": 5,
   "metadata": {},
   "outputs": [
    {
     "name": "stdout",
     "output_type": "stream",
     "text": [
      "tf.Tensor(9.0, shape=(), dtype=float32)\n",
      "tf.Tensor(42.0, shape=(), dtype=float32)\n"
     ]
    }
   ],
   "source": [
    "x1 = tf.Variable(2.0)\n",
    "x2 = tf.Variable(3.0)\n",
    "\n",
    "# 设置persisten参数可以多次调用，但是调用过后要手动删除\n",
    "with tf.GradientTape(persistent=True) as tape:\n",
    "    z = g(x1, x2)\n",
    "dz_x1 = tape.gradient(z, x1)\n",
    "dz_x2 = tape.gradient(z, x2)\n",
    "\n",
    "print(dz_x1)\n",
    "print(dz_x2)\n",
    "\n",
    "del tape"
   ]
  },
  {
   "cell_type": "code",
   "execution_count": 6,
   "metadata": {},
   "outputs": [
    {
     "name": "stdout",
     "output_type": "stream",
     "text": [
      "[<tf.Tensor: id=89, shape=(), dtype=float32, numpy=9.0>, <tf.Tensor: id=95, shape=(), dtype=float32, numpy=42.0>]\n"
     ]
    }
   ],
   "source": [
    "# 对各变量同时求导\n",
    "x1 = tf.Variable(2.0)\n",
    "x2 = tf.Variable(3.0)\n",
    "\n",
    "with tf.GradientTape() as tape:     # 只用一次tape，不用设置persisten参数\n",
    "    z = g(x1, x2)\n",
    "\n",
    "dz_x1x2 = tape.gradient(z, [x1,x2])\n",
    "print(dz_x1x2)\n",
    "\n",
    "del tape"
   ]
  },
  {
   "cell_type": "code",
   "execution_count": 7,
   "metadata": {},
   "outputs": [
    {
     "name": "stdout",
     "output_type": "stream",
     "text": [
      "[<tf.Tensor: id=104, shape=(), dtype=float32, numpy=9.0>, <tf.Tensor: id=110, shape=(), dtype=float32, numpy=42.0>]\n"
     ]
    }
   ],
   "source": [
    "# 关注常量的导数\n",
    "x1 = tf.constant(2.)\n",
    "x2 = tf.constant(3.)\n",
    "\n",
    "with tf.GradientTape() as tape:\n",
    "    tape.watch(x1)\n",
    "    tape.watch(x2)\n",
    "    z = g(x1, x2)\n",
    "\n",
    "dz_x1x2 = tape.gradient(z, [x1, x2])\n",
    "print(dz_x1x2)\n",
    "\n",
    "del tape"
   ]
  },
  {
   "cell_type": "code",
   "execution_count": 8,
   "metadata": {},
   "outputs": [
    {
     "data": {
      "text/plain": [
       "<tf.Tensor: id=133, shape=(), dtype=float32, numpy=13.0>"
      ]
     },
     "execution_count": 8,
     "metadata": {},
     "output_type": "execute_result"
    }
   ],
   "source": [
    "# 多个目标函数对同一变量进行求导\n",
    "x = tf.Variable(5.0)\n",
    "\n",
    "with tf.GradientTape() as tape:\n",
    "    z1 = 3 * x\n",
    "    z2 = x ** 2\n",
    "tape.gradient([z1, z2], x)    # 结果是两个目标函数求导的和"
   ]
  },
  {
   "cell_type": "code",
   "execution_count": 9,
   "metadata": {},
   "outputs": [
    {
     "name": "stdout",
     "output_type": "stream",
     "text": [
      "[<tf.Tensor: id=156, shape=(), dtype=float32, numpy=9.0>, <tf.Tensor: id=162, shape=(), dtype=float32, numpy=42.0>]\n",
      "[[None, <tf.Tensor: id=170, shape=(), dtype=float32, numpy=6.0>], [<tf.Tensor: id=181, shape=(), dtype=float32, numpy=6.0>, <tf.Tensor: id=179, shape=(), dtype=float32, numpy=14.0>]]\n"
     ]
    }
   ],
   "source": [
    "# 求二阶导数\n",
    "x1 = tf.Variable(2.)\n",
    "x2 = tf.Variable(3.)\n",
    "\n",
    "with tf.GradientTape(persistent=True) as outer_tape:\n",
    "    with tf.GradientTape(persistent=True) as inner_tape:\n",
    "        z = g(x1, x2)\n",
    "    inner_grads = inner_tape.gradient(z, [x1, x2])\n",
    "outer_grads = [outer_tape.gradient(inner_grad, [x1, x2]) for inner_grad in inner_grads]\n",
    "\n",
    "print(inner_grads)\n",
    "print(outer_grads)"
   ]
  },
  {
   "cell_type": "code",
   "execution_count": 10,
   "metadata": {},
   "outputs": [
    {
     "name": "stdout",
     "output_type": "stream",
     "text": [
      "<tf.Variable 'Variable:0' shape=() dtype=float32, numpy=-3.139815>\n"
     ]
    }
   ],
   "source": [
    "# 自定义梯度下降\n",
    "def k(x):\n",
    "#     return 3. * x ** 2 + 2. * x -1\n",
    "    return tf.cos(x)\n",
    "\n",
    "learning_rate = 0.01\n",
    "x = tf.Variable(-0.1)\n",
    "\n",
    "optimizer = keras.optimizers.SGD(lr=learning_rate)\n",
    "\n",
    "for _ in range(1000):\n",
    "    with tf.GradientTape(persistent=True) as tape:\n",
    "        z = k(x)\n",
    "    dz_dx = tape.gradient(z, x)\n",
    "    optimizer.apply_gradients([(dz_dx, x)])  # 做的事情是 x.assign(x - learning_rate * dz_dx)\n",
    "print(x)"
   ]
  }
 ],
 "metadata": {
  "kernelspec": {
   "display_name": "Python 3",
   "language": "python",
   "name": "python3"
  },
  "language_info": {
   "codemirror_mode": {
    "name": "ipython",
    "version": 3
   },
   "file_extension": ".py",
   "mimetype": "text/x-python",
   "name": "python",
   "nbconvert_exporter": "python",
   "pygments_lexer": "ipython3",
   "version": "3.7.5"
  }
 },
 "nbformat": 4,
 "nbformat_minor": 4
}
