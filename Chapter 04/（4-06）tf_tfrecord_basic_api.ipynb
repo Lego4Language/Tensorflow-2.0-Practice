{
 "cells": [
  {
   "cell_type": "code",
   "execution_count": 1,
   "metadata": {},
   "outputs": [
    {
     "name": "stdout",
     "output_type": "stream",
     "text": [
      "sys.version_info(major=3, minor=7, micro=5, releaselevel='final', serial=0)\n",
      "matplotlib 3.1.2\n",
      "numpy 1.17.4\n",
      "pandas 0.25.3\n",
      "sklearn 0.22\n",
      "tensorflow 2.0.0\n",
      "tensorflow_core.keras 2.2.4-tf\n"
     ]
    }
   ],
   "source": [
    "import matplotlib as mpl\n",
    "import matplotlib.pyplot as plt\n",
    "%matplotlib inline\n",
    "import numpy as np\n",
    "import sklearn\n",
    "import pandas as pd\n",
    "import os\n",
    "import sys\n",
    "import time\n",
    "import tensorflow as tf\n",
    "from tensorflow import keras\n",
    "from pprint import pprint\n",
    "\n",
    "print(sys.version_info)\n",
    "for module in mpl, np, pd, sklearn, tf, keras:\n",
    "    print(module.__name__, module.__version__)"
   ]
  },
  {
   "cell_type": "markdown",
   "metadata": {
    "toc-hr-collapsed": false
   },
   "source": [
    "## 1. tfrecord基本结构和使用"
   ]
  },
  {
   "cell_type": "markdown",
   "metadata": {},
   "source": [
    "### 1.1 生成tf.train.Example对象 "
   ]
  },
  {
   "cell_type": "code",
   "execution_count": 2,
   "metadata": {},
   "outputs": [],
   "source": [
    "# tfrecord 一种文件格式，以下是结构\n",
    "# -> tf.train.Example\n",
    "#       -> tf.train.Features -> {\"key\": tf.train.Feature}\n",
    "#            -> tf.train.Feature  \n",
    "#                 -> tf.train.ByteList\n",
    "#                 -> tf.train.FloatList\n",
    "#                 -> tf.train.Int64List"
   ]
  },
  {
   "cell_type": "code",
   "execution_count": 3,
   "metadata": {},
   "outputs": [
    {
     "name": "stdout",
     "output_type": "stream",
     "text": [
      "[b'machine learning', b'ccl150']\n",
      "value: \"machine learning\"\n",
      "value: \"ccl150\"\n",
      "\n",
      "value: 15.5\n",
      "value: 0.8999999761581421\n",
      "value: 10.199999809265137\n",
      "value: 5.099999904632568\n",
      "\n",
      "value: 42\n",
      "\n"
     ]
    }
   ],
   "source": [
    "# tf.train.ByteList\n",
    "favorite_books = [name.encode(\"utf-8\") for name in [\"machine learning\", \"ccl150\"]]\n",
    "favorite_books_bytelist = tf.train.BytesList(value=favorite_books)\n",
    "print(favorite_books)\n",
    "print(favorite_books_bytelist)\n",
    "\n",
    "# tf.train.FloatList\n",
    "hours_floatlist = tf.train.FloatList(value=[15.5, 0.9, 10.2, 5.1])\n",
    "print(hours_floatlist)\n",
    "\n",
    "# tf.train.Int64List\n",
    "age_int64list = tf.train.Int64List(value=[42])\n",
    "print(age_int64list)"
   ]
  },
  {
   "cell_type": "code",
   "execution_count": 4,
   "metadata": {},
   "outputs": [
    {
     "name": "stdout",
     "output_type": "stream",
     "text": [
      "feature {\n",
      "  key: \"age\"\n",
      "  value {\n",
      "    int64_list {\n",
      "      value: 42\n",
      "    }\n",
      "  }\n",
      "}\n",
      "feature {\n",
      "  key: \"favorite_books\"\n",
      "  value {\n",
      "    bytes_list {\n",
      "      value: \"machine learning\"\n",
      "      value: \"ccl150\"\n",
      "    }\n",
      "  }\n",
      "}\n",
      "feature {\n",
      "  key: \"hours\"\n",
      "  value {\n",
      "    float_list {\n",
      "      value: 15.5\n",
      "      value: 0.8999999761581421\n",
      "      value: 10.199999809265137\n",
      "      value: 5.099999904632568\n",
      "    }\n",
      "  }\n",
      "}\n",
      "\n"
     ]
    }
   ],
   "source": [
    "features = tf.train.Features(\n",
    "    feature = {\n",
    "        \"favorite_books\": tf.train.Feature(bytes_list =                                                                       favorite_books_bytelist),\n",
    "        \"hours\": tf.train.Feature(float_list = hours_floatlist),\n",
    "        \"age\": tf.train.Feature(int64_list = age_int64list)\n",
    "    }\n",
    ")\n",
    "\n",
    "print(features)"
   ]
  },
  {
   "cell_type": "code",
   "execution_count": 5,
   "metadata": {},
   "outputs": [
    {
     "name": "stdout",
     "output_type": "stream",
     "text": [
      "features {\n",
      "  feature {\n",
      "    key: \"age\"\n",
      "    value {\n",
      "      int64_list {\n",
      "        value: 42\n",
      "      }\n",
      "    }\n",
      "  }\n",
      "  feature {\n",
      "    key: \"favorite_books\"\n",
      "    value {\n",
      "      bytes_list {\n",
      "        value: \"machine learning\"\n",
      "        value: \"ccl150\"\n",
      "      }\n",
      "    }\n",
      "  }\n",
      "  feature {\n",
      "    key: \"hours\"\n",
      "    value {\n",
      "      float_list {\n",
      "        value: 15.5\n",
      "        value: 0.8999999761581421\n",
      "        value: 10.199999809265137\n",
      "        value: 5.099999904632568\n",
      "      }\n",
      "    }\n",
      "  }\n",
      "}\n",
      "\n",
      "b'\\n]\\n.\\n\\x0efavorite_books\\x12\\x1c\\n\\x1a\\n\\x10machine learning\\n\\x06ccl150\\n\\x0c\\n\\x03age\\x12\\x05\\x1a\\x03\\n\\x01*\\n\\x1d\\n\\x05hours\\x12\\x14\\x12\\x12\\n\\x10\\x00\\x00xAfff?33#A33\\xa3@'\n"
     ]
    }
   ],
   "source": [
    "example = tf.train.Example(features=features)\n",
    "print(example)\n",
    "\n",
    "serialized_example = example.SerializeToString()   # 序列化以减小文件存储空间\n",
    "print(serialized_example)"
   ]
  },
  {
   "cell_type": "markdown",
   "metadata": {},
   "source": [
    "## 2. 生成tfrecord文件"
   ]
  },
  {
   "cell_type": "code",
   "execution_count": 6,
   "metadata": {},
   "outputs": [],
   "source": [
    "output_dir = \"tfrecord_basic\"\n",
    "if not os.path.exists(output_dir):\n",
    "    os.mkdir(output_dir)\n",
    "filename = \"test.tfrecords\"\n",
    "filename_fullpath = os.path.join(output_dir, filename)\n",
    "with tf.io.TFRecordWriter(filename_fullpath) as writer:\n",
    "    for i in range(3):\n",
    "        writer.write(serialized_example)"
   ]
  },
  {
   "cell_type": "markdown",
   "metadata": {
    "toc-hr-collapsed": false
   },
   "source": [
    "## 3. 读取并解析tfrecord文件"
   ]
  },
  {
   "cell_type": "markdown",
   "metadata": {},
   "source": [
    "### 3.1 读取文件 "
   ]
  },
  {
   "cell_type": "code",
   "execution_count": 7,
   "metadata": {},
   "outputs": [
    {
     "name": "stdout",
     "output_type": "stream",
     "text": [
      "tf.Tensor(b'\\n]\\n.\\n\\x0efavorite_books\\x12\\x1c\\n\\x1a\\n\\x10machine learning\\n\\x06ccl150\\n\\x0c\\n\\x03age\\x12\\x05\\x1a\\x03\\n\\x01*\\n\\x1d\\n\\x05hours\\x12\\x14\\x12\\x12\\n\\x10\\x00\\x00xAfff?33#A33\\xa3@', shape=(), dtype=string)\n",
      "tf.Tensor(b'\\n]\\n.\\n\\x0efavorite_books\\x12\\x1c\\n\\x1a\\n\\x10machine learning\\n\\x06ccl150\\n\\x0c\\n\\x03age\\x12\\x05\\x1a\\x03\\n\\x01*\\n\\x1d\\n\\x05hours\\x12\\x14\\x12\\x12\\n\\x10\\x00\\x00xAfff?33#A33\\xa3@', shape=(), dtype=string)\n",
      "tf.Tensor(b'\\n]\\n.\\n\\x0efavorite_books\\x12\\x1c\\n\\x1a\\n\\x10machine learning\\n\\x06ccl150\\n\\x0c\\n\\x03age\\x12\\x05\\x1a\\x03\\n\\x01*\\n\\x1d\\n\\x05hours\\x12\\x14\\x12\\x12\\n\\x10\\x00\\x00xAfff?33#A33\\xa3@', shape=(), dtype=string)\n"
     ]
    }
   ],
   "source": [
    "dataset = tf.data.TFRecordDataset([filename_fullpath])\n",
    "for serialized_example_tensor in dataset:\n",
    "    print(serialized_example_tensor)"
   ]
  },
  {
   "cell_type": "markdown",
   "metadata": {},
   "source": [
    "### 3.2 解析文件"
   ]
  },
  {
   "cell_type": "code",
   "execution_count": 8,
   "metadata": {},
   "outputs": [
    {
     "name": "stdout",
     "output_type": "stream",
     "text": [
      "{'favorite_books': <tensorflow.python.framework.sparse_tensor.SparseTensor object at 0x0000017844D6B288>, 'hours': <tensorflow.python.framework.sparse_tensor.SparseTensor object at 0x0000017844D6BEC8>, 'age': <tf.Tensor: id=46, shape=(), dtype=int64, numpy=42>}\n",
      "{'favorite_books': <tensorflow.python.framework.sparse_tensor.SparseTensor object at 0x0000017844E06088>, 'hours': <tensorflow.python.framework.sparse_tensor.SparseTensor object at 0x0000017844E06EC8>, 'age': <tf.Tensor: id=55, shape=(), dtype=int64, numpy=42>}\n",
      "{'favorite_books': <tensorflow.python.framework.sparse_tensor.SparseTensor object at 0x0000017844D6B488>, 'hours': <tensorflow.python.framework.sparse_tensor.SparseTensor object at 0x0000017844D6C208>, 'age': <tf.Tensor: id=64, shape=(), dtype=int64, numpy=42>}\n",
      "---------------------\n",
      "machine learning\n",
      "ccl150\n",
      "---------------------\n",
      "15.5\n",
      "0.9\n",
      "10.2\n",
      "5.1\n"
     ]
    }
   ],
   "source": [
    "# 定义数据类型\n",
    "expected_features = {\n",
    "    \"favorite_books\": tf.io.VarLenFeature(dtype=tf.string),\n",
    "    \"hours\": tf.io.VarLenFeature(dtype=tf.float32),\n",
    "    \"age\": tf.io.FixedLenFeature([], dtype=tf.int64)  # []很重要\n",
    "    }\n",
    "dataset = tf.data.TFRecordDataset([filename_fullpath])\n",
    "\n",
    "# 直接打印 包含favorite_books,hours，age的 所有tensor\n",
    "for serialized_example_tensor in dataset:\n",
    "    example = tf.io.parse_single_example(serialized_example_tensor,                                                    expected_features)\n",
    "    print(example)\n",
    "    \n",
    "print(\"---------------------\")\n",
    "\n",
    "# 解析 book tensor\n",
    "for serialized_example_tensor in dataset.take(1):\n",
    "    example = tf.io.parse_single_example(serialized_example_tensor,                                                    expected_features)\n",
    "    books = tf.sparse.to_dense(example[\"favorite_books\"],\n",
    "                               default_value=b\"\")\n",
    "    for book in books:\n",
    "        print(book.numpy().decode(\"UTF-8\"))\n",
    "        \n",
    "    print(\"---------------------\")\n",
    "    \n",
    "    hours = tf.sparse.to_dense(example[\"hours\"])\n",
    "    for hour in hours:\n",
    "        print(hour.numpy())\n",
    "        \n"
   ]
  },
  {
   "cell_type": "markdown",
   "metadata": {},
   "source": [
    "## 4. 生成zip压缩文件"
   ]
  },
  {
   "cell_type": "code",
   "execution_count": 9,
   "metadata": {},
   "outputs": [],
   "source": [
    "output_dir = \"tfrecord_basic\"\n",
    "if not os.path.exists(output_dir):\n",
    "    os.mkdir(output_dir)\n",
    "filename = \"test.tfrecords\"\n",
    "filename_fullpath_zip = os.path.join(output_dir, filename) + \".zip\"\n",
    "options = tf.io.TFRecordOptions(compression_type=\"GZIP\")\n",
    "with tf.io.TFRecordWriter(filename_fullpath_zip, options) as writer:\n",
    "    for i in range(3):\n",
    "        writer.write(serialized_example)"
   ]
  },
  {
   "cell_type": "markdown",
   "metadata": {},
   "source": [
    "## 5. 读取压缩文件"
   ]
  },
  {
   "cell_type": "code",
   "execution_count": 10,
   "metadata": {},
   "outputs": [
    {
     "name": "stdout",
     "output_type": "stream",
     "text": [
      "machine learning\n",
      "ccl150\n",
      "machine learning\n",
      "ccl150\n",
      "machine learning\n",
      "ccl150\n"
     ]
    }
   ],
   "source": [
    "dataset_zip = tf.data.TFRecordDataset([filename_fullpath_zip], compression_type=\"GZIP\")\n",
    "for serialized_example_tensor in dataset_zip:\n",
    "    example = tf.io.parse_single_example(serialized_example_tensor,                                                    expected_features)\n",
    "    books = tf.sparse.to_dense(example[\"favorite_books\"])\n",
    "    for book in books:\n",
    "        print(book.numpy().decode(\"UTF-8\"))"
   ]
  }
 ],
 "metadata": {
  "kernelspec": {
   "display_name": "Python 3",
   "language": "python",
   "name": "python3"
  },
  "language_info": {
   "codemirror_mode": {
    "name": "ipython",
    "version": 3
   },
   "file_extension": ".py",
   "mimetype": "text/x-python",
   "name": "python",
   "nbconvert_exporter": "python",
   "pygments_lexer": "ipython3",
   "version": "3.7.5"
  }
 },
 "nbformat": 4,
 "nbformat_minor": 4
}
