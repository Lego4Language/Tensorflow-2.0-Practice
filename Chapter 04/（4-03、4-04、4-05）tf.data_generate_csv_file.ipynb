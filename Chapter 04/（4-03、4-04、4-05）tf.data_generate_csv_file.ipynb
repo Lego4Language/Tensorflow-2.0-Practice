{
 "cells": [
  {
   "cell_type": "code",
   "execution_count": 1,
   "metadata": {},
   "outputs": [
    {
     "name": "stdout",
     "output_type": "stream",
     "text": [
      "sys.version_info(major=3, minor=7, micro=5, releaselevel='final', serial=0)\n",
      "matplotlib 3.1.2\n",
      "numpy 1.17.4\n",
      "pandas 0.25.3\n",
      "sklearn 0.22\n",
      "tensorflow 2.0.0\n",
      "tensorflow_core.keras 2.2.4-tf\n"
     ]
    }
   ],
   "source": [
    "import matplotlib as mpl\n",
    "import matplotlib.pyplot as plt\n",
    "%matplotlib inline\n",
    "import numpy as np\n",
    "import sklearn\n",
    "import pandas as pd\n",
    "import os\n",
    "import sys\n",
    "import time\n",
    "import tensorflow as tf\n",
    "from tensorflow import keras\n",
    "from pprint import pprint\n",
    "\n",
    "print(sys.version_info)\n",
    "for module in mpl, np, pd, sklearn, tf, keras:\n",
    "    print(module.__name__, module.__version__)"
   ]
  },
  {
   "cell_type": "markdown",
   "metadata": {},
   "source": [
    "## 1. 获取网络数据并进行预处理"
   ]
  },
  {
   "cell_type": "code",
   "execution_count": 2,
   "metadata": {
    "scrolled": true
   },
   "outputs": [
    {
     "name": "stdout",
     "output_type": "stream",
     "text": [
      "(20640, 8)\n",
      "(20640,)\n"
     ]
    }
   ],
   "source": [
    "# 获取数据\n",
    "from sklearn.datasets import fetch_california_housing\n",
    "housing = fetch_california_housing()\n",
    "print(housing.data.shape)\n",
    "print(housing.target.shape)"
   ]
  },
  {
   "cell_type": "code",
   "execution_count": 3,
   "metadata": {},
   "outputs": [
    {
     "name": "stdout",
     "output_type": "stream",
     "text": [
      "(11610, 8) (11610,)\n",
      "(3870, 8) (3870,)\n",
      "(5160, 8) (5160,)\n"
     ]
    }
   ],
   "source": [
    "# 数据划分\n",
    "from sklearn.model_selection import train_test_split\n",
    "\n",
    "x_train_all, x_test, y_train_all, y_test = train_test_split(housing.data, \n",
    "                                                            housing.target,\n",
    "                                                            random_state=1)\n",
    "x_train, x_valid, y_train, y_valid = train_test_split(x_train_all, \n",
    "                                                      y_train_all, \n",
    "                                                      random_state = 2)\n",
    "print(x_train.shape, y_train.shape)\n",
    "print(x_valid.shape, y_valid.shape)\n",
    "print(x_test.shape, y_test.shape)"
   ]
  },
  {
   "cell_type": "code",
   "execution_count": 4,
   "metadata": {},
   "outputs": [],
   "source": [
    "# 数据标准化\n",
    "from sklearn.preprocessing import StandardScaler\n",
    "\n",
    "scaler = StandardScaler()\n",
    "x_train_scaled = scaler.fit_transform(x_train)\n",
    "x_valid_scaled = scaler.transform(x_valid)\n",
    "x_test_scaled = scaler.transform(x_test)"
   ]
  },
  {
   "cell_type": "markdown",
   "metadata": {},
   "source": [
    "## 2. 生成CSV文件"
   ]
  },
  {
   "cell_type": "code",
   "execution_count": 5,
   "metadata": {},
   "outputs": [],
   "source": [
    "# 构建目录\n",
    "output_dir = \"generate_csv\"\n",
    "if not os.path.exists(output_dir):\n",
    "    os.mkdir(output_dir)\n",
    "    \n",
    "def save_to_csv(output_dir, data, name_prefix, header=None, n_parts=10):\n",
    "    path_format = os.path.join(output_dir, \"{}_{:02d}.csv\")\n",
    "    filenames = []\n",
    "    for file_idx, row_indices in enumerate(np.array_split(np.arange(len(data)), n_parts)):\n",
    "        part_csv = path_format.format(name_prefix, file_idx)\n",
    "        with open(part_csv, \"wt\", encoding=\"utf-8\") as f:\n",
    "            if header is not None:\n",
    "                f.write(header + \"\\n\")\n",
    "            for row_index in row_indices:\n",
    "                f.write(\",\".join([repr(col) for col in data[row_index]]))\n",
    "                f.write(\"\\n\")\n",
    "        filenames.append(part_csv)\n",
    "        \n",
    "# 合并数据 x 和 y\n",
    "train_data = np.c_[x_train_scaled, y_train]  # np.c_默认从第二维度拼接\n",
    "valid_data = np.c_[x_valid_scaled, y_valid]\n",
    "test_data = np.c_[x_test_scaled, y_test]\n",
    "\n",
    "header_cols = housing.feature_names + [\"MidianHouseValue\"]\n",
    "header_str = \",\".join(header_cols)\n",
    "\n",
    "# 写入数据\n",
    "train_filenames = save_to_csv(output_dir, train_data, \"train\", header_str, n_parts=20)\n",
    "valid_filenames = save_to_csv(output_dir, valid_data, \"valid\", header_str, n_parts=10)\n",
    "test_filenames = save_to_csv(output_dir, test_data, \"test\", header_str, n_parts=10)"
   ]
  },
  {
   "cell_type": "markdown",
   "metadata": {},
   "source": [
    "## 3. 读取多个csv文件，并生成dataset类型的数据集"
   ]
  },
  {
   "cell_type": "code",
   "execution_count": 6,
   "metadata": {},
   "outputs": [],
   "source": [
    "def names(directory):\n",
    "    if not os.path.exists(directory):\n",
    "        raise IOError\n",
    "    file_names = os.listdir(directory)\n",
    "    train_file_names = []\n",
    "    valid_file_names = []\n",
    "    test_file_names = []\n",
    "    for name in file_names:\n",
    "        if name.startswith(\"train\"):\n",
    "            train_file_names.append(\"generate_csv/\" + name)\n",
    "        elif name.startswith(\"valid\"):\n",
    "            valid_file_names.append(\"generate_csv/\" + name)\n",
    "        else:\n",
    "            test_file_names.append(\"generate_csv/\" + name)\n",
    "    return train_file_names, valid_file_names, test_file_names\n",
    "\n",
    "train_file_names, valid_file_names, test_file_names= names(\"generate_csv\")"
   ]
  },
  {
   "cell_type": "code",
   "execution_count": 7,
   "metadata": {},
   "outputs": [
    {
     "name": "stdout",
     "output_type": "stream",
     "text": [
      "train_file_names:\n",
      "['generate_csv/train_00.csv',\n",
      " 'generate_csv/train_01.csv',\n",
      " 'generate_csv/train_02.csv']\n",
      "valid_file_names:\n",
      "['generate_csv/valid_00.csv',\n",
      " 'generate_csv/valid_01.csv',\n",
      " 'generate_csv/valid_02.csv']\n",
      "test_file_names:\n",
      "['generate_csv/test_00.csv',\n",
      " 'generate_csv/test_01.csv',\n",
      " 'generate_csv/test_02.csv']\n"
     ]
    }
   ],
   "source": [
    "print(\"train_file_names:\")\n",
    "pprint(train_file_names[:3])\n",
    "print(\"valid_file_names:\")\n",
    "pprint(valid_file_names[:3])\n",
    "print(\"test_file_names:\")\n",
    "pprint(test_file_names[:3])"
   ]
  },
  {
   "cell_type": "markdown",
   "metadata": {},
   "source": [
    "### 3.1 filename -> dataset"
   ]
  },
  {
   "cell_type": "code",
   "execution_count": 8,
   "metadata": {},
   "outputs": [
    {
     "name": "stdout",
     "output_type": "stream",
     "text": [
      "tf.Tensor(b'generate_csv\\\\train_16.csv', shape=(), dtype=string)\n",
      "tf.Tensor(b'generate_csv\\\\train_08.csv', shape=(), dtype=string)\n",
      "tf.Tensor(b'generate_csv\\\\train_14.csv', shape=(), dtype=string)\n",
      "tf.Tensor(b'generate_csv\\\\train_03.csv', shape=(), dtype=string)\n"
     ]
    }
   ],
   "source": [
    "filename_dataset = tf.data.Dataset.list_files(train_file_names)\n",
    "for filename in filename_dataset.take(4):    # .take()提取的行数\n",
    "    print(filename)"
   ]
  },
  {
   "cell_type": "markdown",
   "metadata": {},
   "source": [
    "### 3.2 read file -> dataset -> datasets ->merge"
   ]
  },
  {
   "cell_type": "markdown",
   "metadata": {},
   "source": [
    "##### tf.data.TextLineDataset()"
   ]
  },
  {
   "cell_type": "code",
   "execution_count": 9,
   "metadata": {},
   "outputs": [
    {
     "name": "stdout",
     "output_type": "stream",
     "text": [
      "b'0.6216133377416374,0.34877507508105626,0.09784787148671302,-0.15320100586458107,-0.1957854000052381,-0.04840063829783664,0.7970525684974694,-1.2102367831190115,3.116'\n",
      "b'0.9636774311241296,0.34877507508105626,0.6092477207855667,-0.061660535672652776,0.0939735391385625,0.0017833539192596522,-1.3976734443198464,1.2643108301515529,2.346'\n",
      "b'0.03283365680763377,0.5070953543096866,0.0017446242040271443,-0.22257158459772564,-0.703528128229696,0.013969876695695074,-0.7453132706586459,0.83201034349585,1.875'\n",
      "b'-1.0180727009381736,0.7445757731526319,-0.39238606001141596,-0.15863817055901175,0.000931677945599006,0.12245966360031377,0.40563646430075245,0.11150953240302118,0.514'\n",
      "b'0.5127650992010306,-0.9177871587479858,0.2063180216522211,0.05494679041476598,3.5843725033203073,-0.030173606626313083,0.825010861654379,-1.4040266564474293,3.543'\n"
     ]
    }
   ],
   "source": [
    "n_readers = 5\n",
    "dataset = filename_dataset.interleave(\n",
    "            lambda filename: tf.data.TextLineDataset(filename).skip(1), \n",
    "            cycle_length = n_readers)\n",
    "\n",
    "for line in dataset.take(5):   \n",
    "    print(line.numpy())"
   ]
  },
  {
   "cell_type": "markdown",
   "metadata": {},
   "source": [
    "### 3.3 parse csv"
   ]
  },
  {
   "cell_type": "code",
   "execution_count": 10,
   "metadata": {},
   "outputs": [
    {
     "name": "stdout",
     "output_type": "stream",
     "text": [
      "[<tf.Tensor: id=76, shape=(), dtype=int32, numpy=101>,\n",
      " <tf.Tensor: id=77, shape=(), dtype=int32, numpy=102>,\n",
      " <tf.Tensor: id=78, shape=(), dtype=float32, numpy=103.0>,\n",
      " <tf.Tensor: id=79, shape=(), dtype=string, numpy=b' 104'>,\n",
      " <tf.Tensor: id=80, shape=(), dtype=float32, numpy=105.0>]\n"
     ]
    }
   ],
   "source": [
    "# tf.io.decode_csv使用\n",
    "sample_str = \"101, 102, 103, 104, 105\"\n",
    "# 定义每列数据类型，可以有以下几种灵活的定义方式\n",
    "record_defaults = [tf.constant(0, dtype=tf.int32),\n",
    "                   0,                 \n",
    "                   np.nan,\n",
    "                   \"hello\",\n",
    "                   tf.constant([])]\n",
    "parsed_fields = tf.io.decode_csv(sample_str, record_defaults)\n",
    "pprint(parsed_fields)"
   ]
  },
  {
   "cell_type": "code",
   "execution_count": 11,
   "metadata": {},
   "outputs": [
    {
     "name": "stdout",
     "output_type": "stream",
     "text": [
      "[<tf.Tensor: id=85, shape=(), dtype=int32, numpy=0>,\n",
      " <tf.Tensor: id=86, shape=(), dtype=int32, numpy=2>,\n",
      " <tf.Tensor: id=87, shape=(), dtype=float32, numpy=nan>,\n",
      " <tf.Tensor: id=88, shape=(), dtype=string, numpy=b'3'>,\n",
      " <tf.Tensor: id=89, shape=(), dtype=float32, numpy=6.0>]\n",
      "----------\n",
      "Field 4 is required but missing in record 0! [Op:DecodeCSV]\n",
      "----------\n",
      "Expect 5 fields but have 7 in record 0 [Op:DecodeCSV]\n"
     ]
    }
   ],
   "source": [
    "# tf.io.decode_csv 可能遇到的几种异常情况\n",
    "# 有空元素\n",
    "parsed_fields = tf.io.decode_csv(\",2,,3,6\", record_defaults)\n",
    "pprint(parsed_fields)\n",
    "print(\"----------\")\n",
    "\n",
    "# 全为空\n",
    "try:\n",
    "    parsed_fields = tf.io.decode_csv(\",,,,\", record_defaults)\n",
    "    pprint(parsed_fields)\n",
    "except tf.errors.InvalidArgumentError as ex:\n",
    "    print(ex)\n",
    "print(\"----------\")\n",
    "\n",
    "# 元素列数多于类型定义列表\n",
    "try:\n",
    "    parsed_fields = tf.io.decode_csv(\"1,2,3,4,5,6,7\",record_defaults)\n",
    "except tf.errors.InvalidArgumentError as ex:\n",
    "    print(ex)"
   ]
  },
  {
   "cell_type": "code",
   "execution_count": 12,
   "metadata": {},
   "outputs": [
    {
     "data": {
      "text/plain": [
       "(<tf.Tensor: id=109, shape=(8,), dtype=float32, numpy=\n",
       " array([-0.30294788,  0.26399902, -0.23841843,  0.07020061,  1.8750131 ,\n",
       "         0.01517349, -0.7256808 ,  0.8334536 ], dtype=float32)>,\n",
       " <tf.Tensor: id=110, shape=(1,), dtype=float32, numpy=array([2.044], dtype=float32)>)"
      ]
     },
     "execution_count": 12,
     "metadata": {},
     "output_type": "execute_result"
    }
   ],
   "source": [
    "def parse_csv_line(line, n_fields=9):\n",
    "    defs = [tf.constant(np.nan)] * n_fields\n",
    "    parsed_fields = tf.io.decode_csv(line, record_defaults=defs)\n",
    "    x = tf.stack(parsed_fields[0:-1])\n",
    "    y = tf.stack(parsed_fields[-1:])\n",
    "    return x, y\n",
    "    \n",
    "parse_csv_line(b'-0.3029478917855559,0.26399901350276267,-0.23841843164342102,0.07020060708730767,1.8750131493689683,0.015173487553336078,-0.7256808232726312,0.8334536233193711,2.044',\n",
    "              n_fields=9)"
   ]
  },
  {
   "cell_type": "markdown",
   "metadata": {},
   "source": [
    "### 3.4 三个步骤合并使用"
   ]
  },
  {
   "cell_type": "code",
   "execution_count": 13,
   "metadata": {},
   "outputs": [
    {
     "name": "stdout",
     "output_type": "stream",
     "text": [
      "x:\n",
      "<tf.Tensor: id=194, shape=(4, 8), dtype=float32, numpy=\n",
      "array([[-1.01807272e+00,  7.44575799e-01, -3.92386049e-01,\n",
      "        -1.58638164e-01,  9.31677932e-04,  1.22459665e-01,\n",
      "         4.05636460e-01,  1.11509532e-01],\n",
      "       [-1.60098635e-02,  3.48775089e-01, -1.45162001e-01,\n",
      "        -1.68492213e-01,  6.92985892e-01,  3.41474377e-02,\n",
      "        -8.52486730e-01,  8.46917272e-01],\n",
      "       [-4.36255485e-01, -1.70938861e+00, -9.51952562e-02,\n",
      "        -6.60906360e-02,  7.09822059e-01, -5.64874746e-02,\n",
      "         2.29282117e+00, -1.35930586e+00],\n",
      "       [-7.64394641e-01,  1.45701706e+00, -2.03422800e-01,\n",
      "        -1.55476853e-01, -2.02874303e-01,  1.03040993e-01,\n",
      "        -7.49972999e-01,  7.02817082e-01]], dtype=float32)>\n",
      "y:\n",
      "<tf.Tensor: id=195, shape=(4, 1), dtype=float32, numpy=\n",
      "array([[0.514],\n",
      "       [2.118],\n",
      "       [1.017],\n",
      "       [1.229]], dtype=float32)>\n",
      "x:\n",
      "<tf.Tensor: id=196, shape=(4, 8), dtype=float32, numpy=\n",
      "array([[-1.4568672 ,  1.0612164 , -0.673559  , -0.14353533, -0.4633915 ,\n",
      "         0.05630484, -0.80588955,  0.67300326],\n",
      "       [ 1.9481481 , -0.9969473 ,  0.5670741 , -0.261737  ,  0.21005434,\n",
      "        -0.03852079,  1.1558506 , -1.4586854 ],\n",
      "       [ 0.83845943,  0.3487751 ,  0.13599819, -0.2869947 , -0.3862997 ,\n",
      "        -0.04518905, -0.8990839 ,  0.64318943],\n",
      "       [ 0.38494283, -0.12618576,  0.30425993, -0.23402487, -0.7194782 ,\n",
      "        -0.05461406,  1.3934962 , -0.8624088 ]], dtype=float32)>\n",
      "y:\n",
      "<tf.Tensor: id=197, shape=(4, 1), dtype=float32, numpy=\n",
      "array([[0.854],\n",
      "       [3.921],\n",
      "       [4.098],\n",
      "       [1.99 ]], dtype=float32)>\n"
     ]
    }
   ],
   "source": [
    "# 1. filename -> dataset\n",
    "# 2. read file -> dataset -> datasets ->merge\n",
    "# 3. parse csv\n",
    "def csv_reader_dataset(filenames, n_readers=5, batch_size=32, \n",
    "                       n_parse_threads=5, shuffle_buffer_size=10000):\n",
    "    dataset = tf.data.Dataset.list_files(filenames)\n",
    "    dataset = dataset.repeat()    # 未指定数字则重复无限次\n",
    "    dataset = dataset.interleave(\n",
    "                lambda filename: tf.data.TextLineDataset(filename).skip(1),\n",
    "                cycle_length=n_readers)\n",
    "    dataset.shuffle(shuffle_buffer_size)\n",
    "    dataset = dataset.map(parse_csv_line,\n",
    "                          num_parallel_calls=n_parse_threads)\n",
    "    dataset = dataset.batch(batch_size)\n",
    "    return dataset\n",
    "\n",
    "# 取个小的batch_size以验证函数正确性和展示结果\n",
    "train_set = csv_reader_dataset(train_file_names, batch_size=4)\n",
    "for x_batch, y_batch in train_set.take(2):\n",
    "    print(\"x:\")\n",
    "    pprint(x_batch)\n",
    "    print(\"y:\")\n",
    "    pprint(y_batch)"
   ]
  },
  {
   "cell_type": "code",
   "execution_count": 14,
   "metadata": {},
   "outputs": [],
   "source": [
    "batch_size = 32\n",
    "train_set = csv_reader_dataset(train_file_names, batch_size=batch_size)\n",
    "valid_set = csv_reader_dataset(valid_file_names, batch_size=batch_size)\n",
    "test_set = csv_reader_dataset(test_file_names, batch_size=batch_size)"
   ]
  },
  {
   "cell_type": "markdown",
   "metadata": {},
   "source": [
    "## 4. 定义并训练模型"
   ]
  },
  {
   "cell_type": "code",
   "execution_count": 15,
   "metadata": {},
   "outputs": [
    {
     "name": "stdout",
     "output_type": "stream",
     "text": [
      "Train for 362 steps, validate for 120 steps\n",
      "Epoch 1/100\n",
      "362/362 [==============================] - 1s 3ms/step - loss: 1.1193 - val_loss: 0.6039\n",
      "Epoch 2/100\n",
      "362/362 [==============================] - 1s 1ms/step - loss: 0.5383 - val_loss: 0.5159\n",
      "Epoch 3/100\n",
      "362/362 [==============================] - 0s 1ms/step - loss: 0.4836 - val_loss: 0.4690\n",
      "Epoch 4/100\n",
      "362/362 [==============================] - 1s 1ms/step - loss: 0.4628 - val_loss: 0.4534\n",
      "Epoch 5/100\n",
      "362/362 [==============================] - 1s 1ms/step - loss: 0.4474 - val_loss: 0.4433\n",
      "Epoch 6/100\n",
      "362/362 [==============================] - 1s 1ms/step - loss: 0.4367 - val_loss: 0.4356\n",
      "Epoch 7/100\n",
      "362/362 [==============================] - 0s 1ms/step - loss: 0.4380 - val_loss: 0.4265\n",
      "Epoch 8/100\n",
      "362/362 [==============================] - 0s 1ms/step - loss: 0.4236 - val_loss: 0.4230\n",
      "Epoch 9/100\n",
      "362/362 [==============================] - 0s 1ms/step - loss: 0.4201 - val_loss: 0.4173\n",
      "Epoch 10/100\n",
      "362/362 [==============================] - 0s 1ms/step - loss: 0.4102 - val_loss: 0.4166\n",
      "Epoch 11/100\n",
      "362/362 [==============================] - 0s 1ms/step - loss: 0.4117 - val_loss: 0.4097\n",
      "Epoch 12/100\n",
      "362/362 [==============================] - 0s 1ms/step - loss: 0.4074 - val_loss: 0.4064\n",
      "Epoch 13/100\n",
      "362/362 [==============================] - 0s 1ms/step - loss: 0.4033 - val_loss: 0.4069\n",
      "Epoch 14/100\n",
      "362/362 [==============================] - 0s 1ms/step - loss: 0.4006 - val_loss: 0.4035\n",
      "Epoch 15/100\n",
      "362/362 [==============================] - 1s 1ms/step - loss: 0.3984 - val_loss: 0.3946\n",
      "Epoch 16/100\n",
      "362/362 [==============================] - 0s 1ms/step - loss: 0.3955 - val_loss: 0.3945\n",
      "Epoch 17/100\n",
      "362/362 [==============================] - 0s 1ms/step - loss: 0.3897 - val_loss: 0.3958\n",
      "Epoch 18/100\n",
      "362/362 [==============================] - 1s 1ms/step - loss: 0.3918 - val_loss: 0.3903\n",
      "Epoch 19/100\n",
      "362/362 [==============================] - 0s 1ms/step - loss: 0.3846 - val_loss: 0.3948\n",
      "Epoch 20/100\n",
      "362/362 [==============================] - 1s 1ms/step - loss: 0.3875 - val_loss: 0.3878\n"
     ]
    }
   ],
   "source": [
    "model = keras.models.Sequential([\n",
    "    keras.layers.Dense(30, activation=\"relu\", input_dim=8),\n",
    "    keras.layers.Dense(1)\n",
    "])\n",
    "\n",
    "model.compile(loss=\"mse\", optimizer=\"sgd\")\n",
    "\n",
    "callbacks = [keras.callbacks.EarlyStopping(patience=5, min_delta=1e-2)]\n",
    "history = model.fit(train_set, \n",
    "          epochs=100,\n",
    "          validation_data=valid_set,\n",
    "          steps_per_epoch = 11610 // batch_size,\n",
    "          validation_steps = 3870 // batch_size,             \n",
    "          callbacks = callbacks)"
   ]
  },
  {
   "cell_type": "code",
   "execution_count": 16,
   "metadata": {},
   "outputs": [
    {
     "data": {
      "image/png": "[encoded data removed]",
      "text/plain": [
       "<Figure size 432x288 with 1 Axes>"
      ]
     },
     "metadata": {
      "needs_background": "light"
     },
     "output_type": "display_data"
    }
   ],
   "source": [
    "def plot_learning_curves(history):\n",
    "    pd.DataFrame(history.history).plot(figsize=(6,4), grid=True)\n",
    "    plt.show()\n",
    "\n",
    "plot_learning_curves(history)"
   ]
  },
  {
   "cell_type": "code",
   "execution_count": 17,
   "metadata": {},
   "outputs": [
    {
     "name": "stdout",
     "output_type": "stream",
     "text": [
      "161/161 [==============================] - 0s 857us/step - loss: 0.4121\n"
     ]
    },
    {
     "data": {
      "text/plain": [
       "0.4121402612198954"
      ]
     },
     "execution_count": 17,
     "metadata": {},
     "output_type": "execute_result"
    }
   ],
   "source": [
    "model.evaluate(test_set, steps = 5160 // batch_size)   # 因为dataset.repeat()在不停的产生batch，所以需要指定步数"
   ]
  }
 ],
 "metadata": {
  "kernelspec": {
   "display_name": "Python 3",
   "language": "python",
   "name": "python3"
  },
  "language_info": {
   "codemirror_mode": {
    "name": "ipython",
    "version": 3
   },
   "file_extension": ".py",
   "mimetype": "text/x-python",
   "name": "python",
   "nbconvert_exporter": "python",
   "pygments_lexer": "ipython3",
   "version": "3.7.5"
  },
  "toc": {
   "base_numbering": 1,
   "nav_menu": {},
   "number_sections": false,
   "sideBar": true,
   "skip_h1_title": false,
   "title_cell": "Table of Contents",
   "title_sidebar": "Contents",
   "toc_cell": false,
   "toc_position": {
    "height": "calc(100% - 180px)",
    "left": "10px",
    "top": "150px",
    "width": "275.391px"
   },
   "toc_section_display": true,
   "toc_window_display": true
  }
 },
 "nbformat": 4,
 "nbformat_minor": 4
}
