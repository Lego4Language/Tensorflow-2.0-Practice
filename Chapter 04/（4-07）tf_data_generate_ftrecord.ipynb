{
 "cells": [
  {
   "cell_type": "code",
   "execution_count": 1,
   "metadata": {},
   "outputs": [
    {
     "name": "stdout",
     "output_type": "stream",
     "text": [
      "sys.version_info(major=3, minor=7, micro=5, releaselevel='final', serial=0)\n",
      "matplotlib 3.1.2\n",
      "numpy 1.17.4\n",
      "pandas 0.25.3\n",
      "sklearn 0.22\n",
      "tensorflow 2.0.0\n",
      "tensorflow_core.keras 2.2.4-tf\n"
     ]
    }
   ],
   "source": [
    "import matplotlib as mpl\n",
    "import matplotlib.pyplot as plt\n",
    "%matplotlib inline\n",
    "import numpy as np\n",
    "import sklearn\n",
    "import pandas as pd\n",
    "import os\n",
    "import sys\n",
    "import time\n",
    "import tensorflow as tf\n",
    "from tensorflow import keras\n",
    "from pprint import pprint\n",
    "\n",
    "print(sys.version_info)\n",
    "for module in mpl, np, pd, sklearn, tf, keras:\n",
    "    print(module.__name__, module.__version__)"
   ]
  },
  {
   "cell_type": "markdown",
   "metadata": {
    "toc-hr-collapsed": true
   },
   "source": [
    "## 1. 读取csv文件，生成dataset数据"
   ]
  },
  {
   "cell_type": "markdown",
   "metadata": {},
   "source": [
    "### 1.1 读取csv文件"
   ]
  },
  {
   "cell_type": "code",
   "execution_count": 2,
   "metadata": {},
   "outputs": [
    {
     "name": "stdout",
     "output_type": "stream",
     "text": [
      "['./generate_csv/train_00.csv',\n",
      " './generate_csv/train_01.csv',\n",
      " './generate_csv/train_02.csv']\n",
      "['./generate_csv/valid_00.csv',\n",
      " './generate_csv/valid_01.csv',\n",
      " './generate_csv/valid_02.csv']\n",
      "['./generate_csv/test_00.csv',\n",
      " './generate_csv/test_01.csv',\n",
      " './generate_csv/test_02.csv']\n"
     ]
    }
   ],
   "source": [
    "source_dir = \"./generate_csv/\"\n",
    "\n",
    "def get_filenames_by_prefix(source_dir, prefix_name):\n",
    "    all_files = os.listdir(source_dir)\n",
    "    results = []\n",
    "    for filename in all_files:\n",
    "        if filename.startswith(prefix_name):\n",
    "            results.append(os.path.join(source_dir, filename))\n",
    "    return results\n",
    "\n",
    "train_filenames = get_filenames_by_prefix(source_dir, \"train\")\n",
    "valid_filenames = get_filenames_by_prefix(source_dir, \"valid\")\n",
    "test_filenames = get_filenames_by_prefix(source_dir, \"test\")\n",
    "\n",
    "pprint(train_filenames[:3])\n",
    "pprint(valid_filenames[:3])\n",
    "pprint(test_filenames[:3])"
   ]
  },
  {
   "cell_type": "markdown",
   "metadata": {},
   "source": [
    "### 1.2 解析并生成dataset数据"
   ]
  },
  {
   "cell_type": "code",
   "execution_count": 3,
   "metadata": {},
   "outputs": [],
   "source": [
    "def parse_csv_line(line, n_fields=9):\n",
    "    defs = [tf.constant(np.nan)] * n_fields\n",
    "    parsed_fields = tf.io.decode_csv(line, record_defaults=defs)\n",
    "    x = tf.stack(parsed_fields[:-1])\n",
    "    y = tf.stack(parsed_fields[-1:])        # scaler是没有维度的，所以需要显式指                                             # 定维度\n",
    "    return x, y\n",
    "\n",
    "def csv_reader_dataset(filenames, n_readers=5, batch_size=32, \n",
    "                       n_parse_threads=5, shuffle_buffer_size=10000):\n",
    "    dataset = tf.data.Dataset.list_files(filenames)\n",
    "    dataset = dataset.repeat()   \n",
    "    dataset = dataset.interleave(\n",
    "                lambda filename: tf.data.TextLineDataset(filename).skip(1),\n",
    "                cycle_length=n_readers)\n",
    "    dataset.shuffle(shuffle_buffer_size)\n",
    "    dataset = dataset.map(parse_csv_line,\n",
    "                          num_parallel_calls=n_parse_threads)\n",
    "    dataset = dataset.batch(batch_size)\n",
    "    return dataset\n",
    "\n",
    "batch_size = 32\n",
    "train_set = csv_reader_dataset(train_filenames, batch_size=batch_size)\n",
    "valid_set = csv_reader_dataset(valid_filenames, batch_size=batch_size)\n",
    "test_set = csv_reader_dataset(test_filenames, batch_size=batch_size)"
   ]
  },
  {
   "cell_type": "markdown",
   "metadata": {},
   "source": [
    "## 2. 生成tfrecord文件"
   ]
  },
  {
   "cell_type": "code",
   "execution_count": 4,
   "metadata": {},
   "outputs": [],
   "source": [
    "def serialize_example(x, y):\n",
    "    input_features = tf.train.FloatList(value=x)\n",
    "    label = tf.train.FloatList(value=y)\n",
    "    features = tf.train.Features(\n",
    "        feature = {\n",
    "            \"input_features\": tf.train.Feature(float_list=input_features),\n",
    "            \"label\": tf.train.Feature(float_list=label)\n",
    "            }\n",
    "    )\n",
    "    example =tf.train.Example(features=features)\n",
    "    return example.SerializeToString()"
   ]
  },
  {
   "cell_type": "code",
   "execution_count": 5,
   "metadata": {},
   "outputs": [],
   "source": [
    "\"\"\"在视频教程中生成tfrecord文件没有在filename_fullpath中加.tfrecord后缀，在生成tfrecord压缩文件时也没有加.zip，所以都只有文件名没有后缀，而如果加上这些后缀生成.tfrecord 和 .zip文件时，.tfrecord大小和没有.tfrecord后缀的文件大小一致，而加了.zip的压缩文件居然和原文件大小一致，所以对加不加后缀有什么区别这一点有很大疑惑\n",
    "filename_fullpath = \"{}_{:03d}-of-{:03d}.tfrecord.zip\".format(base_filename, shard_id, n_shards)\"\"\"\n",
    "\n",
    "def csv_dataset_to_tfrecords(base_filename, dataset, n_shards,\n",
    "                             steps_per_shard, compression_type=None):\n",
    "    options = tf.io.TFRecordOptions(compression_type=compression_type)\n",
    "    all_filenames = []\n",
    "    for shard_id in range(n_shards):\n",
    "        filename_fullpath = \"{}_{:03d}-of-{:03d}\".format(base_filename,\n",
    "                                                         shard_id, n_shards)\n",
    "        with tf.io.TFRecordWriter(filename_fullpath, options) as writer:\n",
    "            \"\"\"dataset.take(steps_per_shard)根据视频中的解释是接力式的读取数据，即                从当前位置（不一定是起始位置）开始读取steps_per_shard个batch\"\"\"\n",
    "            for x_batch, y_batch in dataset.take(steps_per_shard):\n",
    "                for x_example, y_example in zip(x_batch, y_batch):\n",
    "                    writer.write(serialize_example(x_example, y_example))\n",
    "        all_filenames.append(filename_fullpath)\n",
    "    return all_filenames"
   ]
  },
  {
   "cell_type": "code",
   "execution_count": 6,
   "metadata": {},
   "outputs": [],
   "source": [
    "n_shards = 20\n",
    "# 每个文件有多少个 batch\n",
    "train_steps_per_shard = 11610 // batch_size // n_shards\n",
    "valid_steps_per_shard = 3880 // batch_size // n_shards\n",
    "test_steps_per_shard = 5170 // batch_size // n_shards\n",
    "\n",
    "output_dir = \"generate_tfrecords\"\n",
    "if not os.path.exists(output_dir):\n",
    "    os.mkdir(output_dir)\n",
    "    \n",
    "train_basename = os.path.join(output_dir, \"train\")\n",
    "valid_basename = os.path.join(output_dir, \"valid\")\n",
    "test_basename = os.path.join(output_dir, \"test\")\n",
    "\n",
    "train_tfrecord_filenames = csv_dataset_to_tfrecords(base_filename=train_basename,\n",
    "                         dataset=train_set,\n",
    "                         n_shards=n_shards,\n",
    "                         steps_per_shard=train_steps_per_shard,\n",
    "                         compression_type=None)\n",
    "valid_tfrecord_filenames = csv_dataset_to_tfrecords(base_filename=valid_basename,\n",
    "                         dataset=valid_set,\n",
    "                         n_shards=n_shards,\n",
    "                         steps_per_shard=valid_steps_per_shard,\n",
    "                         compression_type=None)\n",
    "test_tfrecord_filenames = csv_dataset_to_tfrecords(base_filename=test_basename,\n",
    "                         dataset=test_set,\n",
    "                         n_shards=n_shards,\n",
    "                         steps_per_shard=test_steps_per_shard,\n",
    "                         compression_type=None)\n"
   ]
  },
  {
   "cell_type": "code",
   "execution_count": 7,
   "metadata": {},
   "outputs": [
    {
     "name": "stdout",
     "output_type": "stream",
     "text": [
      "['generate_tfrecords\\\\train_000-of-020',\n",
      " 'generate_tfrecords\\\\train_001-of-020',\n",
      " 'generate_tfrecords\\\\train_002-of-020']\n",
      "['generate_tfrecords\\\\valid_000-of-020',\n",
      " 'generate_tfrecords\\\\valid_001-of-020',\n",
      " 'generate_tfrecords\\\\valid_002-of-020']\n",
      "['generate_tfrecords\\\\test_000-of-020',\n",
      " 'generate_tfrecords\\\\test_001-of-020',\n",
      " 'generate_tfrecords\\\\test_002-of-020']\n"
     ]
    }
   ],
   "source": [
    "pprint(train_tfrecord_filenames[:3])\n",
    "pprint(valid_tfrecord_filenames[:3])\n",
    "pprint(test_tfrecord_filenames[:3])"
   ]
  },
  {
   "cell_type": "markdown",
   "metadata": {},
   "source": [
    "## 3. 生成压缩后的tfrecord文件（非zip文件）"
   ]
  },
  {
   "cell_type": "code",
   "execution_count": 8,
   "metadata": {},
   "outputs": [],
   "source": [
    "n_shards = 20\n",
    "train_steps_per_shard = 11610 // batch_size // n_shards\n",
    "valid_steps_per_shard = 3880 // batch_size // n_shards\n",
    "test_steps_per_shard = 5170 // batch_size // n_shards\n",
    "\n",
    "output_dir = \"generate_tfrecords_zip\"\n",
    "if not os.path.exists(output_dir):\n",
    "    os.mkdir(output_dir)\n",
    "    \n",
    "train_basename = os.path.join(output_dir, \"train\")\n",
    "valid_basename = os.path.join(output_dir, \"valid\")\n",
    "test_basename = os.path.join(output_dir, \"test\")\n",
    "\n",
    "train_tfrecord_filenames =                                                         csv_dataset_to_tfrecords(base_filename=train_basename,\n",
    "                             dataset=train_set,\n",
    "                             n_shards=n_shards,                                                            steps_per_shard=train_steps_per_shard,\n",
    "                             compression_type=\"GZIP\")\n",
    "valid_tfrecord_filenames =                                                         csv_dataset_to_tfrecords(base_filename=valid_basename,\n",
    "                             dataset=valid_set,\n",
    "                             n_shards=n_shards,                                                            steps_per_shard=train_steps_per_shard,\n",
    "                             compression_type=\"GZIP\")\n",
    "test_tfrecord_filenames =                                                         csv_dataset_to_tfrecords(base_filename=test_basename,\n",
    "                             dataset=test_set,\n",
    "                             n_shards=n_shards,                                                            steps_per_shard=train_steps_per_shard,\n",
    "                             compression_type=\"GZIP\")"
   ]
  },
  {
   "cell_type": "code",
   "execution_count": 9,
   "metadata": {},
   "outputs": [
    {
     "name": "stdout",
     "output_type": "stream",
     "text": [
      "['generate_tfrecords_zip\\\\train_000-of-020',\n",
      " 'generate_tfrecords_zip\\\\train_001-of-020',\n",
      " 'generate_tfrecords_zip\\\\train_002-of-020']\n",
      "['generate_tfrecords_zip\\\\valid_000-of-020',\n",
      " 'generate_tfrecords_zip\\\\valid_001-of-020',\n",
      " 'generate_tfrecords_zip\\\\valid_002-of-020']\n",
      "['generate_tfrecords_zip\\\\test_000-of-020',\n",
      " 'generate_tfrecords_zip\\\\test_001-of-020',\n",
      " 'generate_tfrecords_zip\\\\test_002-of-020']\n"
     ]
    }
   ],
   "source": [
    "pprint(train_tfrecord_filenames[:3])\n",
    "pprint(valid_tfrecord_filenames[:3])\n",
    "pprint(test_tfrecord_filenames[:3])"
   ]
  },
  {
   "cell_type": "markdown",
   "metadata": {},
   "source": [
    "## 4.读取tfrecord文件（压缩后的文件）"
   ]
  },
  {
   "cell_type": "code",
   "execution_count": 10,
   "metadata": {},
   "outputs": [
    {
     "name": "stdout",
     "output_type": "stream",
     "text": [
      "tf.Tensor(\n",
      "[[-0.01600986  0.3487751  -0.145162   -0.16849221  0.6929859   0.03414744\n",
      "  -0.8524867   0.8469173 ]\n",
      " [-1.4568672   1.0612164  -0.673559   -0.14353533 -0.4633915   0.05630484\n",
      "  -0.80588955  0.67300326]\n",
      " [-0.43625548 -1.7093886  -0.09519526 -0.06609064  0.70982206 -0.05648747\n",
      "   2.2928212  -1.3593059 ]], shape=(3, 8), dtype=float32)\n",
      "tf.Tensor(\n",
      "[[2.118]\n",
      " [0.854]\n",
      " [1.017]], shape=(3, 1), dtype=float32)\n",
      "------------------\n",
      "tf.Tensor(\n",
      "[[-0.43625548 -1.7093886  -0.09519526 -0.06609064  0.70982206 -0.05648747\n",
      "   2.2928212  -1.3593059 ]\n",
      " [-0.27877632  0.26961493 -0.44563687 -0.09520677  1.2317426  -0.02799864\n",
      "  -0.72667444  0.76244473]\n",
      " [ 0.5127651  -0.91778713  0.20631802  0.05494679  3.5843725  -0.03017361\n",
      "   0.82501084 -1.4040266 ]], shape=(3, 8), dtype=float32)\n",
      "tf.Tensor(\n",
      "[[1.017]\n",
      " [2.141]\n",
      " [3.543]], shape=(3, 1), dtype=float32)\n",
      "------------------\n"
     ]
    }
   ],
   "source": [
    "expected_features = {\n",
    "    \"input_features\": tf.io.FixedLenFeature([8], dtype=tf.float32),\n",
    "    \"label\": tf.io.FixedLenFeature([1], dtype=tf.float32)}\n",
    "\n",
    "def parse_example(serialized_example):\n",
    "    example = tf.io.parse_single_example(serialized_example,                                                            expected_features)\n",
    "    return example[\"input_features\"], example[\"label\"]\n",
    "\n",
    "def tfrecords_reader_dataset(filenames, n_readers=5, batch_size=32, \n",
    "                             n_parse_threads=5, shuffle_buffer_size=10000):\n",
    "    dataset = tf.data.Dataset.list_files(filenames)\n",
    "    dataset = dataset.repeat()   \n",
    "    dataset = dataset.interleave(\n",
    "                lambda filename: tf.data.TFRecordDataset(filename, \n",
    "                compression_type=\"GZIP\"),\n",
    "                cycle_length=n_readers)\n",
    "    dataset.shuffle(shuffle_buffer_size)\n",
    "    dataset = dataset.map(parse_example,\n",
    "                          num_parallel_calls=n_parse_threads)\n",
    "    dataset = dataset.batch(batch_size)\n",
    "    return dataset\n",
    "\n",
    "# 简单测试\n",
    "tfrecords_train = tfrecords_reader_dataset(train_tfrecord_filenames,                                                      batch_size=3)\n",
    "for x_batch, y_batch in tfrecords_train.take(2):\n",
    "    print(x_batch)\n",
    "    print(y_batch)\n",
    "    print(\"------------------\")"
   ]
  },
  {
   "cell_type": "code",
   "execution_count": 11,
   "metadata": {},
   "outputs": [
    {
     "name": "stdout",
     "output_type": "stream",
     "text": [
      "tf.Tensor(\n",
      "[[-0.43625548 -1.7093886  -0.09519526 -0.06609064  0.70982206 -0.05648747\n",
      "   2.2928212  -1.3593059 ]\n",
      " [-0.01600986  0.3487751  -0.145162   -0.16849221  0.6929859   0.03414744\n",
      "  -0.8524867   0.8469173 ]\n",
      " [-0.01600986  0.3487751  -0.145162   -0.16849221  0.6929859   0.03414744\n",
      "  -0.8524867   0.8469173 ]], shape=(3, 8), dtype=float32)\n",
      "tf.Tensor(\n",
      "[[1.017]\n",
      " [2.118]\n",
      " [2.118]], shape=(3, 1), dtype=float32)\n"
     ]
    }
   ],
   "source": [
    "batch_size = 32\n",
    "tfrecords_train_set = tfrecords_reader_dataset(train_tfrecord_filenames,                                                      batch_size=batch_size)\n",
    "tfrecords_valid_set = tfrecords_reader_dataset(valid_tfrecord_filenames,                                                      batch_size=batch_size)\n",
    "tfrecords_test_set = tfrecords_reader_dataset(test_tfrecord_filenames,                                                       batch_size=batch_size) \n",
    "\n",
    "for x_batch, y_batch in tfrecords_train.take(1):\n",
    "    print(x_batch)\n",
    "    print(y_batch)"
   ]
  },
  {
   "cell_type": "markdown",
   "metadata": {},
   "source": [
    "## 5. 定义并训练模型"
   ]
  },
  {
   "cell_type": "code",
   "execution_count": 12,
   "metadata": {},
   "outputs": [
    {
     "name": "stdout",
     "output_type": "stream",
     "text": [
      "Train for 348 steps, validate for 120 steps\n",
      "Epoch 1/100\n",
      "348/348 [==============================] - 1s 3ms/step - loss: 0.7710 - val_loss: 0.6402\n",
      "Epoch 2/100\n",
      "348/348 [==============================] - 0s 1ms/step - loss: 0.5064 - val_loss: 0.5444\n",
      "Epoch 3/100\n",
      "348/348 [==============================] - 0s 1ms/step - loss: 0.4691 - val_loss: 0.5326\n",
      "Epoch 4/100\n",
      "348/348 [==============================] - 1s 1ms/step - loss: 0.4398 - val_loss: 0.4929\n",
      "Epoch 5/100\n",
      "348/348 [==============================] - 0s 1ms/step - loss: 0.4306 - val_loss: 0.4868\n",
      "Epoch 6/100\n",
      "348/348 [==============================] - 0s 1ms/step - loss: 0.4165 - val_loss: 0.4653\n",
      "Epoch 7/100\n",
      "348/348 [==============================] - 0s 1ms/step - loss: 0.4088 - val_loss: 0.4913\n",
      "Epoch 8/100\n",
      "348/348 [==============================] - 0s 1ms/step - loss: 0.3995 - val_loss: 0.4900\n",
      "Epoch 9/100\n",
      "348/348 [==============================] - 0s 1ms/step - loss: 0.3934 - val_loss: 0.4537\n",
      "Epoch 10/100\n",
      "348/348 [==============================] - 0s 1ms/step - loss: 0.3904 - val_loss: 0.4571\n",
      "Epoch 11/100\n",
      "348/348 [==============================] - 0s 1ms/step - loss: 0.3838 - val_loss: 0.4524\n",
      "Epoch 12/100\n",
      "348/348 [==============================] - 0s 1ms/step - loss: 0.3756 - val_loss: 0.4535\n",
      "Epoch 13/100\n",
      "348/348 [==============================] - 0s 1ms/step - loss: 0.3694 - val_loss: 0.4754\n",
      "Epoch 14/100\n",
      "348/348 [==============================] - 0s 1ms/step - loss: 0.3678 - val_loss: 0.4687\n"
     ]
    }
   ],
   "source": [
    "model = keras.models.Sequential([\n",
    "    keras.layers.Dense(100, activation=\"relu\", input_dim=8),\n",
    "    keras.layers.Dense(1)\n",
    "])\n",
    "\n",
    "model.compile(loss=\"mse\", optimizer=\"sgd\")\n",
    "\n",
    "callbacks = [keras.callbacks.EarlyStopping(patience=5, min_delta=1e-2)]\n",
    "history = model.fit(tfrecords_train_set, \n",
    "                    epochs=100,\n",
    "                    validation_data=tfrecords_valid_set,\n",
    "                    steps_per_epoch = 11150 // batch_size,\n",
    "                    validation_steps = 3870 // batch_size,             \n",
    "                    callbacks = callbacks)"
   ]
  },
  {
   "cell_type": "code",
   "execution_count": 13,
   "metadata": {},
   "outputs": [
    {
     "data": {
      "image/png": "[encoded data removed]",
      "text/plain": [
       "<Figure size 432x288 with 1 Axes>"
      ]
     },
     "metadata": {
      "needs_background": "light"
     },
     "output_type": "display_data"
    }
   ],
   "source": [
    "def plot_learning_curves(history):\n",
    "    pd.DataFrame(history.history).plot(figsize=(6, 4))\n",
    "    plt.grid(True)\n",
    "    plt.show()\n",
    "\n",
    "plot_learning_curves(history)"
   ]
  },
  {
   "cell_type": "code",
   "execution_count": 14,
   "metadata": {},
   "outputs": [
    {
     "name": "stdout",
     "output_type": "stream",
     "text": [
      "161/161 [==============================] - 0s 832us/step - loss: 0.4084\n"
     ]
    },
    {
     "data": {
      "text/plain": [
       "0.408448295795029"
      ]
     },
     "execution_count": 14,
     "metadata": {},
     "output_type": "execute_result"
    }
   ],
   "source": [
    "model.evaluate(tfrecords_test_set, steps= 5160 // batch_size)"
   ]
  }
 ],
 "metadata": {
  "kernelspec": {
   "display_name": "Python 3",
   "language": "python",
   "name": "python3"
  },
  "language_info": {
   "codemirror_mode": {
    "name": "ipython",
    "version": 3
   },
   "file_extension": ".py",
   "mimetype": "text/x-python",
   "name": "python",
   "nbconvert_exporter": "python",
   "pygments_lexer": "ipython3",
   "version": "3.7.5"
  }
 },
 "nbformat": 4,
 "nbformat_minor": 4
}
